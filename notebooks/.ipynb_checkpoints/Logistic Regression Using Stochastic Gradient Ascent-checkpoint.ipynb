{
 "cells": [
  {
   "cell_type": "markdown",
   "metadata": {},
   "source": [
    "# Predicting sentiment from product reviews\n",
    "\n",
    "\n",
    "The goal of this notebook is to explore logistic regression using Stochastic Gradient Ascent.\n",
    "\n",
    "In this notebook, you will use product review data from Amazon.com to predict whether the sentiments about a product (from its reviews) are positive or negative.\n",
    "\n",
    "* Do some feature engineering\n",
    "* Train a Stochastic logistic regression model to predict the sentiment of product reviews.\n",
    "* Inspect the weights (coefficients) of a trained logistic regression model.\n",
    "* Make a prediction (both class and probability) of sentiment for a new product review.\n",
    "* Given the logistic regression weights, predictors and ground truth labels, write a function to compute the **accuracy** of the model.\n",
    "\n",
    "Let's get started!"
   ]
  },
  {
   "cell_type": "code",
   "execution_count": 1,
   "metadata": {},
   "outputs": [],
   "source": [
    "import pandas as pd\n",
    "import numpy as np"
   ]
  },
  {
   "cell_type": "markdown",
   "metadata": {},
   "source": [
    "# Data preparation\n",
    "\n",
    "We will use a dataset consisting of Amazon.com product reviews."
   ]
  },
  {
   "cell_type": "code",
   "execution_count": 2,
   "metadata": {},
   "outputs": [],
   "source": [
    "products = pd.read_csv('../datasets/Amazon Product Reviews I.csv')"
   ]
  },
  {
   "cell_type": "code",
   "execution_count": 3,
   "metadata": {},
   "outputs": [
    {
     "name": "stdout",
     "output_type": "stream",
     "text": [
      "                     id       asins   brand                  categories  \\\n",
      "0  AVpe7AsMilAPnD_xQ78G  B00QJDU3KY  Amazon  Amazon Devices,mazon.co.uk   \n",
      "1  AVpe7AsMilAPnD_xQ78G  B00QJDU3KY  Amazon  Amazon Devices,mazon.co.uk   \n",
      "2  AVpe7AsMilAPnD_xQ78G  B00QJDU3KY  Amazon  Amazon Devices,mazon.co.uk   \n",
      "3  AVpe7AsMilAPnD_xQ78G  B00QJDU3KY  Amazon  Amazon Devices,mazon.co.uk   \n",
      "4  AVpe7AsMilAPnD_xQ78G  B00QJDU3KY  Amazon  Amazon Devices,mazon.co.uk   \n",
      "\n",
      "  colors             dateAdded           dateUpdated  \\\n",
      "0    NaN  2016-03-08T20:21:53Z  2017-07-18T23:52:58Z   \n",
      "1    NaN  2016-03-08T20:21:53Z  2017-07-18T23:52:58Z   \n",
      "2    NaN  2016-03-08T20:21:53Z  2017-07-18T23:52:58Z   \n",
      "3    NaN  2016-03-08T20:21:53Z  2017-07-18T23:52:58Z   \n",
      "4    NaN  2016-03-08T20:21:53Z  2017-07-18T23:52:58Z   \n",
      "\n",
      "                  dimension  ean                         keys  ...  \\\n",
      "0  169 mm x 117 mm x 9.1 mm  NaN  kindlepaperwhite/b00qjdu3ky  ...   \n",
      "1  169 mm x 117 mm x 9.1 mm  NaN  kindlepaperwhite/b00qjdu3ky  ...   \n",
      "2  169 mm x 117 mm x 9.1 mm  NaN  kindlepaperwhite/b00qjdu3ky  ...   \n",
      "3  169 mm x 117 mm x 9.1 mm  NaN  kindlepaperwhite/b00qjdu3ky  ...   \n",
      "4  169 mm x 117 mm x 9.1 mm  NaN  kindlepaperwhite/b00qjdu3ky  ...   \n",
      "\n",
      "  reviews.rating                                 reviews.sourceURLs  \\\n",
      "0            5.0  https://www.amazon.com/Kindle-Paperwhite-High-...   \n",
      "1            5.0  https://www.amazon.com/Kindle-Paperwhite-High-...   \n",
      "2            4.0  https://www.amazon.com/Kindle-Paperwhite-High-...   \n",
      "3            5.0  https://www.amazon.com/Kindle-Paperwhite-High-...   \n",
      "4            5.0  https://www.amazon.com/Kindle-Paperwhite-High-...   \n",
      "\n",
      "                                        reviews.text  \\\n",
      "0  I initially had trouble deciding between the p...   \n",
      "1  Allow me to preface this with a little history...   \n",
      "2  I am enjoying it so far. Great for reading. Ha...   \n",
      "3  I bought one of the first Paperwhites and have...   \n",
      "4  I have to say upfront - I don't like coroporat...   \n",
      "\n",
      "                                reviews.title reviews.userCity  \\\n",
      "0              Paperwhite voyage, no regrets!              NaN   \n",
      "1           One Simply Could Not Ask For More              NaN   \n",
      "2  Great for those that just want an e-reader              NaN   \n",
      "3                    Love / Hate relationship              NaN   \n",
      "4                                   I LOVE IT              NaN   \n",
      "\n",
      "  reviews.userProvince    reviews.username  sizes upc     weight  \n",
      "0                  NaN          Cristina M    NaN NaN  205 grams  \n",
      "1                  NaN               Ricky    NaN NaN  205 grams  \n",
      "2                  NaN       Tedd Gardiner    NaN NaN  205 grams  \n",
      "3                  NaN              Dougal    NaN NaN  205 grams  \n",
      "4                  NaN  Miljan David Tanic    NaN NaN  205 grams  \n",
      "\n",
      "[5 rows x 27 columns]\n"
     ]
    }
   ],
   "source": [
    "print(products.head())"
   ]
  },
  {
   "cell_type": "code",
   "execution_count": 4,
   "metadata": {},
   "outputs": [
    {
     "name": "stdout",
     "output_type": "stream",
     "text": [
      "['Alexa Voice Remote for Amazon Echo and Echo Dot'\n",
      " 'Alexa Voice Remote for Amazon Fire TV and Fire TV Stick'\n",
      " 'All-New Amazon Fire 7 Tablet Case (7th Generation'\n",
      " 'All-New Amazon Fire HD 8 Tablet Case (7th Generation'\n",
      " 'All-New Amazon Fire TV Game Controller'\n",
      " 'All-New Amazon Kid-Proof Case for Amazon Fire 7 Tablet (7th Generation'\n",
      " 'All-New Amazon Kid-Proof Case for Amazon Fire HD 8 Tablet (7th Generation'\n",
      " 'All-New Fire 7 Kids Edition Tablet' 'All-New Fire 7 Tablet with Alexa'\n",
      " 'All-New Fire HD 8 Kids Edition Tablet']\n"
     ]
    }
   ],
   "source": [
    "name=np.unique(products['name'])\n",
    "print(name[0:10])"
   ]
  },
  {
   "cell_type": "markdown",
   "metadata": {},
   "source": [
    "Now, let us see a preview of what the dataset looks like."
   ]
  },
  {
   "cell_type": "code",
   "execution_count": 5,
   "metadata": {},
   "outputs": [
    {
     "name": "stdout",
     "output_type": "stream",
     "text": [
      "                                             reviews  rating  \\\n",
      "0  I initially had trouble deciding between the p...     5.0   \n",
      "1  Allow me to preface this with a little history...     5.0   \n",
      "2  I am enjoying it so far. Great for reading. Ha...     4.0   \n",
      "3  I bought one of the first Paperwhites and have...     5.0   \n",
      "4  I have to say upfront - I don't like coroporat...     5.0   \n",
      "\n",
      "                                        title  \n",
      "0              Paperwhite voyage, no regrets!  \n",
      "1           One Simply Could Not Ask For More  \n",
      "2  Great for those that just want an e-reader  \n",
      "3                    Love / Hate relationship  \n",
      "4                                   I LOVE IT  \n"
     ]
    }
   ],
   "source": [
    "# Simplify relevant columns names\n",
    "if('reviews.rating' in products.columns):\n",
    "    products['rating']=products['reviews.rating']\n",
    "    products.drop(['reviews.rating'],axis=1, inplace=True)\n",
    "\n",
    "if('reviews.text' in products.columns):\n",
    "    products['reviews']=products['reviews.text']\n",
    "    products.drop(['reviews.text'],axis=1, inplace=True)\n",
    "    \n",
    "if('reviews.title' in products.columns):\n",
    "    products['title']=products['reviews.title']\n",
    "    products.drop(['reviews.title'],axis=1, inplace=True)\n",
    "\n",
    "# Drop irrelevant columns\n",
    "relevant_cols=['reviews','rating','title']\n",
    "products = products.loc[:, relevant_cols]\n",
    "\n",
    "# Drop Nana\n",
    "products.dropna(subset=['rating', 'reviews','title'], inplace=True)\n",
    "products.reset_index(drop=True, inplace=True)\n",
    "\n",
    "print(products.head())"
   ]
  },
  {
   "cell_type": "markdown",
   "metadata": {},
   "source": [
    "Let us explore a specific example of a Amazon product."
   ]
  },
  {
   "cell_type": "code",
   "execution_count": 6,
   "metadata": {},
   "outputs": [
    {
     "name": "stdout",
     "output_type": "stream",
     "text": [
      "I can read a lot longer without pain in my hands since the cover holds it for me. Very nice shade of blue.\n"
     ]
    }
   ],
   "source": [
    "print(products['reviews'][269])"
   ]
  },
  {
   "cell_type": "markdown",
   "metadata": {},
   "source": [
    "## Build the word count vector for each review"
   ]
  },
  {
   "cell_type": "markdown",
   "metadata": {},
   "source": [
    "Now, we will perform 2 simple data transformations:\n",
    "\n",
    "1. Remove punctuation using [Python's built-in](https://docs.python.org/2/library/string.html) string functionality.\n",
    "2. Transform the reviews into word-counts.\n",
    "\n",
    "**Aside**. In this notebook, we remove all punctuations for the sake of simplicity. A smarter approach to punctuations would preserve phrases such as \"I'd\", \"would've\", \"hadn't\" and so forth. See [this page](https://neptune.ai/blog/tokenization-in-nlp) for an example of smart handling of punctuations."
   ]
  },
  {
   "cell_type": "code",
   "execution_count": 7,
   "metadata": {},
   "outputs": [
    {
     "name": "stdout",
     "output_type": "stream",
     "text": [
      "0       I initially had trouble deciding between the p...\n",
      "1       Allow me to preface this with a little history...\n",
      "2       I am enjoying it so far Great for reading Had ...\n",
      "3       I bought one of the first Paperwhites and have...\n",
      "4       I have to say upfront  I dont like coroporate ...\n",
      "                              ...                        \n",
      "1172    This is not the same remote that I got for my ...\n",
      "1173    I have had to change the batteries in this rem...\n",
      "1174    Remote did not activate nor did it connect to ...\n",
      "1175    It does the job but is super over priced I fee...\n",
      "1176    I ordered this item to replace the one that no...\n",
      "Name: reviews, Length: 1177, dtype: object\n"
     ]
    }
   ],
   "source": [
    "import string \n",
    "def remove_punctuation(text):\n",
    "    try: # python 2.x\n",
    "        text = text.translate(None, string.punctuation) \n",
    "    except: # python 3.x\n",
    "        translator = text.maketrans('', '', string.punctuation)\n",
    "        text = text.translate(translator)\n",
    "    return text\n",
    "\n",
    "products['reviews'] = products['reviews'].apply(remove_punctuation)\n",
    "print(products['reviews'])"
   ]
  },
  {
   "cell_type": "code",
   "execution_count": 8,
   "metadata": {},
   "outputs": [
    {
     "name": "stdout",
     "output_type": "stream",
     "text": [
      "                                             reviews  rating  \\\n",
      "0  I initially had trouble deciding between the p...     5.0   \n",
      "1  Allow me to preface this with a little history...     5.0   \n",
      "2  I am enjoying it so far Great for reading Had ...     4.0   \n",
      "3  I bought one of the first Paperwhites and have...     5.0   \n",
      "4  I have to say upfront  I dont like coroporate ...     5.0   \n",
      "\n",
      "                                        title  word_count_0  word_count_1  \\\n",
      "0              Paperwhite voyage, no regrets!             0             0   \n",
      "1           One Simply Could Not Ask For More             0             0   \n",
      "2  Great for those that just want an e-reader             0             0   \n",
      "3                    Love / Hate relationship             0             0   \n",
      "4                                   I LOVE IT             0             0   \n",
      "\n",
      "   word_count_2  word_count_3  word_count_4  word_count_5  word_count_6  ...  \\\n",
      "0             0             0             0             0             0  ...   \n",
      "1             0             0             0             0             0  ...   \n",
      "2             0             0             0             0             0  ...   \n",
      "3             0             0             0             0             0  ...   \n",
      "4             0             0             0             0             0  ...   \n",
      "\n",
      "   word_count_6740  word_count_6741  word_count_6742  word_count_6743  \\\n",
      "0                0                0                0                0   \n",
      "1                0                0                0                0   \n",
      "2                0                0                0                0   \n",
      "3                0                0                0                0   \n",
      "4                0                0                0                0   \n",
      "\n",
      "   word_count_6744  word_count_6745  word_count_6746  word_count_6747  \\\n",
      "0                0                0                0                0   \n",
      "1                0                0                0                0   \n",
      "2                0                0                0                0   \n",
      "3                0                0                0                0   \n",
      "4                0                0                0                0   \n",
      "\n",
      "   word_count_6748  word_count_6749  \n",
      "0                0                0  \n",
      "1                0                0  \n",
      "2                0                0  \n",
      "3                0                0  \n",
      "4                0                0  \n",
      "\n",
      "[5 rows x 6753 columns]\n"
     ]
    }
   ],
   "source": [
    "# Word Importance: Frequency counts\n",
    "from sklearn.feature_extraction.text import CountVectorizer\n",
    "count_vect = CountVectorizer()\n",
    "X_train_counts = count_vect.fit_transform(products['reviews'])\n",
    "word_count_df = pd.DataFrame(X_train_counts.toarray())\n",
    "word_count_df = word_count_df.add_prefix('word_count_')\n",
    "products = pd.concat([products, word_count_df], axis=1)\n",
    "print(products.head())"
   ]
  },
  {
   "cell_type": "code",
   "execution_count": 9,
   "metadata": {},
   "outputs": [
    {
     "name": "stdout",
     "output_type": "stream",
     "text": [
      "(1177, 6750)\n",
      "                                             reviews  rating  \\\n",
      "0  I initially had trouble deciding between the p...     5.0   \n",
      "1  Allow me to preface this with a little history...     5.0   \n",
      "2  I am enjoying it so far Great for reading Had ...     4.0   \n",
      "3  I bought one of the first Paperwhites and have...     5.0   \n",
      "4  I have to say upfront  I dont like coroporate ...     5.0   \n",
      "\n",
      "                                        title  word_count_0  word_count_1  \\\n",
      "0              Paperwhite voyage, no regrets!             0             0   \n",
      "1           One Simply Could Not Ask For More             0             0   \n",
      "2  Great for those that just want an e-reader             0             0   \n",
      "3                    Love / Hate relationship             0             0   \n",
      "4                                   I LOVE IT             0             0   \n",
      "\n",
      "   word_count_2  word_count_3  word_count_4  word_count_5  word_count_6  ...  \\\n",
      "0             0             0             0             0             0  ...   \n",
      "1             0             0             0             0             0  ...   \n",
      "2             0             0             0             0             0  ...   \n",
      "3             0             0             0             0             0  ...   \n",
      "4             0             0             0             0             0  ...   \n",
      "\n",
      "   tfidf_word_count_word_count_6740  tfidf_word_count_word_count_6741  \\\n",
      "0                                 0                                 0   \n",
      "1                                 0                                 0   \n",
      "2                                 0                                 0   \n",
      "3                                 0                                 0   \n",
      "4                                 0                                 0   \n",
      "\n",
      "   tfidf_word_count_word_count_6742  tfidf_word_count_word_count_6743  \\\n",
      "0                                 0                                 0   \n",
      "1                                 0                                 0   \n",
      "2                                 0                                 0   \n",
      "3                                 0                                 0   \n",
      "4                                 0                                 0   \n",
      "\n",
      "   tfidf_word_count_word_count_6744  tfidf_word_count_word_count_6745  \\\n",
      "0                                 0                                 0   \n",
      "1                                 0                                 0   \n",
      "2                                 0                                 0   \n",
      "3                                 0                                 0   \n",
      "4                                 0                                 0   \n",
      "\n",
      "   tfidf_word_count_word_count_6746  tfidf_word_count_word_count_6747  \\\n",
      "0                                 0                                 0   \n",
      "1                                 0                                 0   \n",
      "2                                 0                                 0   \n",
      "3                                 0                                 0   \n",
      "4                                 0                                 0   \n",
      "\n",
      "   tfidf_word_count_word_count_6748  tfidf_word_count_word_count_6749  \n",
      "0                                 0                                 0  \n",
      "1                                 0                                 0  \n",
      "2                                 0                                 0  \n",
      "3                                 0                                 0  \n",
      "4                                 0                                 0  \n",
      "\n",
      "[5 rows x 13503 columns]\n"
     ]
    }
   ],
   "source": [
    "# Word Importance: TF-IDF\n",
    "from sklearn.feature_extraction.text import TfidfTransformer\n",
    "tfidf_transformer = TfidfTransformer()\n",
    "X_train_tfidf = tfidf_transformer.fit_transform(X_train_counts)\n",
    "print(X_train_tfidf.shape)\n",
    "\n",
    "tfidf_df = pd.DataFrame(X_train_tfidf.toarray())\n",
    "tfidf_df = word_count_df.add_prefix('tfidf_word_count_')\n",
    "products = pd.concat([products, tfidf_df], axis=1)\n",
    "\n",
    "print(products.head())"
   ]
  },
  {
   "cell_type": "markdown",
   "metadata": {},
   "source": [
    "Now, let us explore what the sample example above looks like after these 2 transformations. Here, each entry in the **word_count** column is a dictionary where the key is the word and the value is a count of the number of times the word occurs."
   ]
  },
  {
   "cell_type": "markdown",
   "metadata": {},
   "source": [
    "## Extract sentiments\n",
    "\n",
    "We will **ignore** all reviews with *rating = 3*, since they tend to have a neutral sentiment."
   ]
  },
  {
   "cell_type": "code",
   "execution_count": 10,
   "metadata": {},
   "outputs": [
    {
     "data": {
      "text/plain": [
       "(1053, 13503)"
      ]
     },
     "execution_count": 10,
     "metadata": {},
     "output_type": "execute_result"
    }
   ],
   "source": [
    "products = products[products['rating'] != 3]\n",
    "products.reset_index(drop=True, inplace=True)\n",
    "products.shape"
   ]
  },
  {
   "cell_type": "markdown",
   "metadata": {},
   "source": [
    "Now, we will assign reviews with a rating of 4 or higher to be *positive* reviews, while the ones with rating of 2 or lower are *negative*. For the sentiment column, we use +1 for the positive class label and -1 for the negative class label."
   ]
  },
  {
   "cell_type": "code",
   "execution_count": 11,
   "metadata": {},
   "outputs": [
    {
     "data": {
      "text/html": [
       "<div>\n",
       "<style scoped>\n",
       "    .dataframe tbody tr th:only-of-type {\n",
       "        vertical-align: middle;\n",
       "    }\n",
       "\n",
       "    .dataframe tbody tr th {\n",
       "        vertical-align: top;\n",
       "    }\n",
       "\n",
       "    .dataframe thead th {\n",
       "        text-align: right;\n",
       "    }\n",
       "</style>\n",
       "<table border=\"1\" class=\"dataframe\">\n",
       "  <thead>\n",
       "    <tr style=\"text-align: right;\">\n",
       "      <th></th>\n",
       "      <th>reviews</th>\n",
       "      <th>rating</th>\n",
       "      <th>title</th>\n",
       "      <th>word_count_0</th>\n",
       "      <th>word_count_1</th>\n",
       "      <th>word_count_2</th>\n",
       "      <th>word_count_3</th>\n",
       "      <th>word_count_4</th>\n",
       "      <th>word_count_5</th>\n",
       "      <th>word_count_6</th>\n",
       "      <th>...</th>\n",
       "      <th>tfidf_word_count_word_count_6741</th>\n",
       "      <th>tfidf_word_count_word_count_6742</th>\n",
       "      <th>tfidf_word_count_word_count_6743</th>\n",
       "      <th>tfidf_word_count_word_count_6744</th>\n",
       "      <th>tfidf_word_count_word_count_6745</th>\n",
       "      <th>tfidf_word_count_word_count_6746</th>\n",
       "      <th>tfidf_word_count_word_count_6747</th>\n",
       "      <th>tfidf_word_count_word_count_6748</th>\n",
       "      <th>tfidf_word_count_word_count_6749</th>\n",
       "      <th>sentiment</th>\n",
       "    </tr>\n",
       "  </thead>\n",
       "  <tbody>\n",
       "    <tr>\n",
       "      <th>0</th>\n",
       "      <td>I initially had trouble deciding between the p...</td>\n",
       "      <td>5.0</td>\n",
       "      <td>Paperwhite voyage, no regrets!</td>\n",
       "      <td>0</td>\n",
       "      <td>0</td>\n",
       "      <td>0</td>\n",
       "      <td>0</td>\n",
       "      <td>0</td>\n",
       "      <td>0</td>\n",
       "      <td>0</td>\n",
       "      <td>...</td>\n",
       "      <td>0</td>\n",
       "      <td>0</td>\n",
       "      <td>0</td>\n",
       "      <td>0</td>\n",
       "      <td>0</td>\n",
       "      <td>0</td>\n",
       "      <td>0</td>\n",
       "      <td>0</td>\n",
       "      <td>0</td>\n",
       "      <td>1</td>\n",
       "    </tr>\n",
       "    <tr>\n",
       "      <th>1</th>\n",
       "      <td>Allow me to preface this with a little history...</td>\n",
       "      <td>5.0</td>\n",
       "      <td>One Simply Could Not Ask For More</td>\n",
       "      <td>0</td>\n",
       "      <td>0</td>\n",
       "      <td>0</td>\n",
       "      <td>0</td>\n",
       "      <td>0</td>\n",
       "      <td>0</td>\n",
       "      <td>0</td>\n",
       "      <td>...</td>\n",
       "      <td>0</td>\n",
       "      <td>0</td>\n",
       "      <td>0</td>\n",
       "      <td>0</td>\n",
       "      <td>0</td>\n",
       "      <td>0</td>\n",
       "      <td>0</td>\n",
       "      <td>0</td>\n",
       "      <td>0</td>\n",
       "      <td>1</td>\n",
       "    </tr>\n",
       "    <tr>\n",
       "      <th>2</th>\n",
       "      <td>I am enjoying it so far Great for reading Had ...</td>\n",
       "      <td>4.0</td>\n",
       "      <td>Great for those that just want an e-reader</td>\n",
       "      <td>0</td>\n",
       "      <td>0</td>\n",
       "      <td>0</td>\n",
       "      <td>0</td>\n",
       "      <td>0</td>\n",
       "      <td>0</td>\n",
       "      <td>0</td>\n",
       "      <td>...</td>\n",
       "      <td>0</td>\n",
       "      <td>0</td>\n",
       "      <td>0</td>\n",
       "      <td>0</td>\n",
       "      <td>0</td>\n",
       "      <td>0</td>\n",
       "      <td>0</td>\n",
       "      <td>0</td>\n",
       "      <td>0</td>\n",
       "      <td>1</td>\n",
       "    </tr>\n",
       "    <tr>\n",
       "      <th>3</th>\n",
       "      <td>I bought one of the first Paperwhites and have...</td>\n",
       "      <td>5.0</td>\n",
       "      <td>Love / Hate relationship</td>\n",
       "      <td>0</td>\n",
       "      <td>0</td>\n",
       "      <td>0</td>\n",
       "      <td>0</td>\n",
       "      <td>0</td>\n",
       "      <td>0</td>\n",
       "      <td>0</td>\n",
       "      <td>...</td>\n",
       "      <td>0</td>\n",
       "      <td>0</td>\n",
       "      <td>0</td>\n",
       "      <td>0</td>\n",
       "      <td>0</td>\n",
       "      <td>0</td>\n",
       "      <td>0</td>\n",
       "      <td>0</td>\n",
       "      <td>0</td>\n",
       "      <td>1</td>\n",
       "    </tr>\n",
       "    <tr>\n",
       "      <th>4</th>\n",
       "      <td>I have to say upfront  I dont like coroporate ...</td>\n",
       "      <td>5.0</td>\n",
       "      <td>I LOVE IT</td>\n",
       "      <td>0</td>\n",
       "      <td>0</td>\n",
       "      <td>0</td>\n",
       "      <td>0</td>\n",
       "      <td>0</td>\n",
       "      <td>0</td>\n",
       "      <td>0</td>\n",
       "      <td>...</td>\n",
       "      <td>0</td>\n",
       "      <td>0</td>\n",
       "      <td>0</td>\n",
       "      <td>0</td>\n",
       "      <td>0</td>\n",
       "      <td>0</td>\n",
       "      <td>0</td>\n",
       "      <td>0</td>\n",
       "      <td>0</td>\n",
       "      <td>1</td>\n",
       "    </tr>\n",
       "  </tbody>\n",
       "</table>\n",
       "<p>5 rows × 13504 columns</p>\n",
       "</div>"
      ],
      "text/plain": [
       "                                             reviews  rating  \\\n",
       "0  I initially had trouble deciding between the p...     5.0   \n",
       "1  Allow me to preface this with a little history...     5.0   \n",
       "2  I am enjoying it so far Great for reading Had ...     4.0   \n",
       "3  I bought one of the first Paperwhites and have...     5.0   \n",
       "4  I have to say upfront  I dont like coroporate ...     5.0   \n",
       "\n",
       "                                        title  word_count_0  word_count_1  \\\n",
       "0              Paperwhite voyage, no regrets!             0             0   \n",
       "1           One Simply Could Not Ask For More             0             0   \n",
       "2  Great for those that just want an e-reader             0             0   \n",
       "3                    Love / Hate relationship             0             0   \n",
       "4                                   I LOVE IT             0             0   \n",
       "\n",
       "   word_count_2  word_count_3  word_count_4  word_count_5  word_count_6  ...  \\\n",
       "0             0             0             0             0             0  ...   \n",
       "1             0             0             0             0             0  ...   \n",
       "2             0             0             0             0             0  ...   \n",
       "3             0             0             0             0             0  ...   \n",
       "4             0             0             0             0             0  ...   \n",
       "\n",
       "   tfidf_word_count_word_count_6741  tfidf_word_count_word_count_6742  \\\n",
       "0                                 0                                 0   \n",
       "1                                 0                                 0   \n",
       "2                                 0                                 0   \n",
       "3                                 0                                 0   \n",
       "4                                 0                                 0   \n",
       "\n",
       "   tfidf_word_count_word_count_6743  tfidf_word_count_word_count_6744  \\\n",
       "0                                 0                                 0   \n",
       "1                                 0                                 0   \n",
       "2                                 0                                 0   \n",
       "3                                 0                                 0   \n",
       "4                                 0                                 0   \n",
       "\n",
       "   tfidf_word_count_word_count_6745  tfidf_word_count_word_count_6746  \\\n",
       "0                                 0                                 0   \n",
       "1                                 0                                 0   \n",
       "2                                 0                                 0   \n",
       "3                                 0                                 0   \n",
       "4                                 0                                 0   \n",
       "\n",
       "   tfidf_word_count_word_count_6747  tfidf_word_count_word_count_6748  \\\n",
       "0                                 0                                 0   \n",
       "1                                 0                                 0   \n",
       "2                                 0                                 0   \n",
       "3                                 0                                 0   \n",
       "4                                 0                                 0   \n",
       "\n",
       "   tfidf_word_count_word_count_6749  sentiment  \n",
       "0                                 0          1  \n",
       "1                                 0          1  \n",
       "2                                 0          1  \n",
       "3                                 0          1  \n",
       "4                                 0          1  \n",
       "\n",
       "[5 rows x 13504 columns]"
      ]
     },
     "execution_count": 11,
     "metadata": {},
     "output_type": "execute_result"
    }
   ],
   "source": [
    "products['sentiment'] = products['rating'].apply(lambda r : +1 if r > 3 else -1)\n",
    "products.head()"
   ]
  },
  {
   "cell_type": "code",
   "execution_count": 12,
   "metadata": {},
   "outputs": [
    {
     "data": {
      "text/plain": [
       "array([[<Axes: title={'center': 'sentiment'}>]], dtype=object)"
      ]
     },
     "execution_count": 12,
     "metadata": {},
     "output_type": "execute_result"
    },
    {
     "data": {
      "image/png": "[encoded data removed]",
      "text/plain": [
       "<Figure size 640x480 with 1 Axes>"
      ]
     },
     "metadata": {},
     "output_type": "display_data"
    }
   ],
   "source": [
    "# View number of positive and negative sentiment\n",
    "products.hist(column=['sentiment'])"
   ]
  },
  {
   "cell_type": "markdown",
   "metadata": {},
   "source": [
    "Now, we can see that the dataset contains an extra column called **sentiment** which is either positive (+1) or negative (-1).\n",
    "\n",
    "Note, there are significantly more positive reviews than negative reviews."
   ]
  },
  {
   "cell_type": "markdown",
   "metadata": {},
   "source": [
    "# Match number of positive and negative reviews"
   ]
  },
  {
   "cell_type": "code",
   "execution_count": 13,
   "metadata": {},
   "outputs": [
    {
     "data": {
      "text/plain": [
       "\"\\n# Report number of positive examples\\npositive_sent = products[products['sentiment']==1]\\nprint('There are {} positive reviews'.format(len(positive_sent)))\\n\\n# Report number of negative examples\\nnegative_sent = products[products['sentiment']==-1]\\nprint('There are {} negative reviews'.format(len(negative_sent)))\\n\\n# Sample number of negative example from positive examples (# positive > # negative)\\npositive_sample = positive_sent.sample(n = len(negative_sent))\\nprint('[Update] There are {} positive reviews'.format(len(positive_sample)))\\n\\n# Merge positive and negative examples and update products dataframe\\nframes = [negative_sent, positive_sample]\\nproducts = pd.concat(frames)\\nprint(products.head())\\nprint(products.tail())\\n\""
      ]
     },
     "execution_count": 13,
     "metadata": {},
     "output_type": "execute_result"
    }
   ],
   "source": [
    "'''\n",
    "# Report number of positive examples\n",
    "positive_sent = products[products['sentiment']==1]\n",
    "print('There are {} positive reviews'.format(len(positive_sent)))\n",
    "\n",
    "# Report number of negative examples\n",
    "negative_sent = products[products['sentiment']==-1]\n",
    "print('There are {} negative reviews'.format(len(negative_sent)))\n",
    "\n",
    "# Sample number of negative example from positive examples (# positive > # negative)\n",
    "positive_sample = positive_sent.sample(n = len(negative_sent))\n",
    "print('[Update] There are {} positive reviews'.format(len(positive_sample)))\n",
    "\n",
    "# Merge positive and negative examples and update products dataframe\n",
    "frames = [negative_sent, positive_sample]\n",
    "products = pd.concat(frames)\n",
    "print(products.head())\n",
    "print(products.tail())\n",
    "'''"
   ]
  },
  {
   "cell_type": "markdown",
   "metadata": {},
   "source": [
    "## Split data into training and test sets"
   ]
  },
  {
   "cell_type": "markdown",
   "metadata": {},
   "source": [
    "Let's perform a train/test split with 80% of the data in the training set and 20% of the data in the test set. We use `seed=1` so that everyone gets the same result."
   ]
  },
  {
   "cell_type": "code",
   "execution_count": 14,
   "metadata": {},
   "outputs": [
    {
     "name": "stdout",
     "output_type": "stream",
     "text": [
      "842\n",
      "842\n"
     ]
    }
   ],
   "source": [
    "from sklearn.model_selection import train_test_split\n",
    "\n",
    "X, y = products.loc[:, ~products.columns.isin(['sentiment'])], products.loc[:, products.columns.isin(['sentiment'])]\n",
    "\n",
    "X_train, X_test, y_train, y_test = train_test_split(X, y, test_size=.2, random_state=1)\n",
    "print(len(X_train))\n",
    "print(len(y_train))"
   ]
  },
  {
   "cell_type": "code",
   "execution_count": 15,
   "metadata": {},
   "outputs": [
    {
     "data": {
      "text/html": [
       "<div>\n",
       "<style scoped>\n",
       "    .dataframe tbody tr th:only-of-type {\n",
       "        vertical-align: middle;\n",
       "    }\n",
       "\n",
       "    .dataframe tbody tr th {\n",
       "        vertical-align: top;\n",
       "    }\n",
       "\n",
       "    .dataframe thead th {\n",
       "        text-align: right;\n",
       "    }\n",
       "</style>\n",
       "<table border=\"1\" class=\"dataframe\">\n",
       "  <thead>\n",
       "    <tr style=\"text-align: right;\">\n",
       "      <th></th>\n",
       "      <th>tfidf_word_count_word_count_0</th>\n",
       "      <th>tfidf_word_count_word_count_1</th>\n",
       "      <th>tfidf_word_count_word_count_2</th>\n",
       "      <th>tfidf_word_count_word_count_3</th>\n",
       "      <th>tfidf_word_count_word_count_4</th>\n",
       "      <th>tfidf_word_count_word_count_5</th>\n",
       "      <th>tfidf_word_count_word_count_6</th>\n",
       "      <th>tfidf_word_count_word_count_7</th>\n",
       "      <th>tfidf_word_count_word_count_8</th>\n",
       "      <th>tfidf_word_count_word_count_9</th>\n",
       "      <th>...</th>\n",
       "      <th>tfidf_word_count_word_count_6740</th>\n",
       "      <th>tfidf_word_count_word_count_6741</th>\n",
       "      <th>tfidf_word_count_word_count_6742</th>\n",
       "      <th>tfidf_word_count_word_count_6743</th>\n",
       "      <th>tfidf_word_count_word_count_6744</th>\n",
       "      <th>tfidf_word_count_word_count_6745</th>\n",
       "      <th>tfidf_word_count_word_count_6746</th>\n",
       "      <th>tfidf_word_count_word_count_6747</th>\n",
       "      <th>tfidf_word_count_word_count_6748</th>\n",
       "      <th>tfidf_word_count_word_count_6749</th>\n",
       "    </tr>\n",
       "  </thead>\n",
       "  <tbody>\n",
       "    <tr>\n",
       "      <th>867</th>\n",
       "      <td>0</td>\n",
       "      <td>0</td>\n",
       "      <td>0</td>\n",
       "      <td>0</td>\n",
       "      <td>0</td>\n",
       "      <td>0</td>\n",
       "      <td>0</td>\n",
       "      <td>0</td>\n",
       "      <td>0</td>\n",
       "      <td>0</td>\n",
       "      <td>...</td>\n",
       "      <td>0</td>\n",
       "      <td>0</td>\n",
       "      <td>0</td>\n",
       "      <td>0</td>\n",
       "      <td>0</td>\n",
       "      <td>0</td>\n",
       "      <td>0</td>\n",
       "      <td>0</td>\n",
       "      <td>0</td>\n",
       "      <td>0</td>\n",
       "    </tr>\n",
       "    <tr>\n",
       "      <th>54</th>\n",
       "      <td>0</td>\n",
       "      <td>0</td>\n",
       "      <td>0</td>\n",
       "      <td>0</td>\n",
       "      <td>0</td>\n",
       "      <td>0</td>\n",
       "      <td>0</td>\n",
       "      <td>0</td>\n",
       "      <td>0</td>\n",
       "      <td>0</td>\n",
       "      <td>...</td>\n",
       "      <td>0</td>\n",
       "      <td>0</td>\n",
       "      <td>0</td>\n",
       "      <td>0</td>\n",
       "      <td>0</td>\n",
       "      <td>0</td>\n",
       "      <td>0</td>\n",
       "      <td>0</td>\n",
       "      <td>0</td>\n",
       "      <td>0</td>\n",
       "    </tr>\n",
       "    <tr>\n",
       "      <th>455</th>\n",
       "      <td>0</td>\n",
       "      <td>0</td>\n",
       "      <td>0</td>\n",
       "      <td>0</td>\n",
       "      <td>0</td>\n",
       "      <td>0</td>\n",
       "      <td>0</td>\n",
       "      <td>0</td>\n",
       "      <td>0</td>\n",
       "      <td>0</td>\n",
       "      <td>...</td>\n",
       "      <td>0</td>\n",
       "      <td>0</td>\n",
       "      <td>0</td>\n",
       "      <td>0</td>\n",
       "      <td>0</td>\n",
       "      <td>0</td>\n",
       "      <td>0</td>\n",
       "      <td>0</td>\n",
       "      <td>0</td>\n",
       "      <td>0</td>\n",
       "    </tr>\n",
       "    <tr>\n",
       "      <th>851</th>\n",
       "      <td>0</td>\n",
       "      <td>0</td>\n",
       "      <td>0</td>\n",
       "      <td>0</td>\n",
       "      <td>0</td>\n",
       "      <td>0</td>\n",
       "      <td>0</td>\n",
       "      <td>0</td>\n",
       "      <td>0</td>\n",
       "      <td>0</td>\n",
       "      <td>...</td>\n",
       "      <td>0</td>\n",
       "      <td>0</td>\n",
       "      <td>0</td>\n",
       "      <td>0</td>\n",
       "      <td>0</td>\n",
       "      <td>0</td>\n",
       "      <td>0</td>\n",
       "      <td>0</td>\n",
       "      <td>0</td>\n",
       "      <td>0</td>\n",
       "    </tr>\n",
       "    <tr>\n",
       "      <th>84</th>\n",
       "      <td>0</td>\n",
       "      <td>0</td>\n",
       "      <td>0</td>\n",
       "      <td>0</td>\n",
       "      <td>0</td>\n",
       "      <td>0</td>\n",
       "      <td>0</td>\n",
       "      <td>0</td>\n",
       "      <td>0</td>\n",
       "      <td>0</td>\n",
       "      <td>...</td>\n",
       "      <td>0</td>\n",
       "      <td>0</td>\n",
       "      <td>0</td>\n",
       "      <td>0</td>\n",
       "      <td>0</td>\n",
       "      <td>0</td>\n",
       "      <td>0</td>\n",
       "      <td>0</td>\n",
       "      <td>0</td>\n",
       "      <td>0</td>\n",
       "    </tr>\n",
       "  </tbody>\n",
       "</table>\n",
       "<p>5 rows × 6750 columns</p>\n",
       "</div>"
      ],
      "text/plain": [
       "     tfidf_word_count_word_count_0  tfidf_word_count_word_count_1  \\\n",
       "867                              0                              0   \n",
       "54                               0                              0   \n",
       "455                              0                              0   \n",
       "851                              0                              0   \n",
       "84                               0                              0   \n",
       "\n",
       "     tfidf_word_count_word_count_2  tfidf_word_count_word_count_3  \\\n",
       "867                              0                              0   \n",
       "54                               0                              0   \n",
       "455                              0                              0   \n",
       "851                              0                              0   \n",
       "84                               0                              0   \n",
       "\n",
       "     tfidf_word_count_word_count_4  tfidf_word_count_word_count_5  \\\n",
       "867                              0                              0   \n",
       "54                               0                              0   \n",
       "455                              0                              0   \n",
       "851                              0                              0   \n",
       "84                               0                              0   \n",
       "\n",
       "     tfidf_word_count_word_count_6  tfidf_word_count_word_count_7  \\\n",
       "867                              0                              0   \n",
       "54                               0                              0   \n",
       "455                              0                              0   \n",
       "851                              0                              0   \n",
       "84                               0                              0   \n",
       "\n",
       "     tfidf_word_count_word_count_8  tfidf_word_count_word_count_9  ...  \\\n",
       "867                              0                              0  ...   \n",
       "54                               0                              0  ...   \n",
       "455                              0                              0  ...   \n",
       "851                              0                              0  ...   \n",
       "84                               0                              0  ...   \n",
       "\n",
       "     tfidf_word_count_word_count_6740  tfidf_word_count_word_count_6741  \\\n",
       "867                                 0                                 0   \n",
       "54                                  0                                 0   \n",
       "455                                 0                                 0   \n",
       "851                                 0                                 0   \n",
       "84                                  0                                 0   \n",
       "\n",
       "     tfidf_word_count_word_count_6742  tfidf_word_count_word_count_6743  \\\n",
       "867                                 0                                 0   \n",
       "54                                  0                                 0   \n",
       "455                                 0                                 0   \n",
       "851                                 0                                 0   \n",
       "84                                  0                                 0   \n",
       "\n",
       "     tfidf_word_count_word_count_6744  tfidf_word_count_word_count_6745  \\\n",
       "867                                 0                                 0   \n",
       "54                                  0                                 0   \n",
       "455                                 0                                 0   \n",
       "851                                 0                                 0   \n",
       "84                                  0                                 0   \n",
       "\n",
       "     tfidf_word_count_word_count_6746  tfidf_word_count_word_count_6747  \\\n",
       "867                                 0                                 0   \n",
       "54                                  0                                 0   \n",
       "455                                 0                                 0   \n",
       "851                                 0                                 0   \n",
       "84                                  0                                 0   \n",
       "\n",
       "     tfidf_word_count_word_count_6748  tfidf_word_count_word_count_6749  \n",
       "867                                 0                                 0  \n",
       "54                                  0                                 0  \n",
       "455                                 0                                 0  \n",
       "851                                 0                                 0  \n",
       "84                                  0                                 0  \n",
       "\n",
       "[5 rows x 6750 columns]"
      ]
     },
     "execution_count": 15,
     "metadata": {},
     "output_type": "execute_result"
    }
   ],
   "source": [
    "X_train_sentiment = X_train.loc[:,X_train.columns.str.startswith('tfidf_word_count_')]\n",
    "X_test_sentiment = X_test.loc[:,X_test.columns.str.startswith('tfidf_word_count_')]\n",
    "\n",
    "X_train_sentiment.head()"
   ]
  },
  {
   "cell_type": "markdown",
   "metadata": {},
   "source": [
    "Just like in the earlier assignments, we convert Pandas dataframe into a NumPy array. Two arrays are returned: one representing features and another representing class labels. "
   ]
  },
  {
   "cell_type": "markdown",
   "metadata": {},
   "source": [
    "# Training Logistic Regression via Stochastic Gradient Ascent\n",
    "\n",
    "The goal of this notebook is to implement a logistic regression classifier using stochastic gradient descent. \n",
    "\n",
    "To verify the correctness of the gradient computation, we provide a function for computing average log likelihood (which we recall from the last assignment was a topic detailed in an advanced optional video, and used here for its numerical stability).\n",
    "\n",
    "To track the performance of stochastic gradient ascent, we provide a function for computing **average log likelihood**. \n",
    "\n",
    "$$\\ell\\ell_A(\\mathbf{w}) = \\color{black}{\\frac{1}{N}} \\sum_{i=1}^N \\Big( (\\mathbf{1}[y_i = +1] - 1)\\mathbf{w}^T h(\\mathbf{x}_i) - \\ln\\left(1 + \\exp(-\\mathbf{w}^T h(\\mathbf{x}_i))\\right) \\Big) $$\n",
    "\n",
    "**Note** that we made one tiny modification to the log likelihood function (called **compute_log_likelihood**) in our earlier assignments. We added a $\\color{black}{1/N}$ term which averages the log likelihood accross all data points. The $\\color{black}{1/N}$ term makes it easier for us to compare stochastic gradient ascent with batch gradient ascent. We will use this function to generate plots that are similar to those you saw in the lecture."
   ]
  },
  {
   "cell_type": "code",
   "execution_count": 16,
   "metadata": {},
   "outputs": [],
   "source": [
    "def compute_avg_log_likelihood(feature_matrix, sentiment, coefficients):\n",
    "    '''\n",
    "    Compute the average log-likelihood of logistic regression coefficients\n",
    "    Input\n",
    "        - feature_matrix: subset of features in dataset\n",
    "        - sentiment: true sentiment of inputs\n",
    "        - coefficients: logistic regression weights\n",
    "    Output\n",
    "        - lp: log likelihood estimation\n",
    "    '''\n",
    "    indicator = (sentiment==+1)\n",
    "    scores = np.dot(feature_matrix, coefficients)\n",
    "    logexp = np.log(1. + np.exp(-scores))\n",
    "    \n",
    "    # Simple check to prevent overflow\n",
    "    mask = np.isinf(logexp)\n",
    "    logexp[mask] = -scores[mask]\n",
    "    \n",
    "    lp = np.sum((indicator-1)*scores - logexp)/len(feature_matrix)\n",
    "    \n",
    "    return lp"
   ]
  },
  {
   "cell_type": "code",
   "execution_count": 17,
   "metadata": {},
   "outputs": [],
   "source": [
    "def predict_probability(X, W, b=0):\n",
    "    '''\n",
    "    Produces probabilistic estimate for P(y_i = +1 | x_i, w)\n",
    "        Estimate ranges between 0 and 1.\n",
    "    Input:\n",
    "        - X: Input features\n",
    "        - W: weights/coefficients of logistic regression model\n",
    "        - b: bias or y-intercept of logistic regression classifier\n",
    "    Output:\n",
    "        - y_pred: probability of positive product review\n",
    "    '''\n",
    "    # Take dot product of feature_matrix and coefficients  \n",
    "    score = np.dot(X, W)\n",
    "    \n",
    "    # Compute P(y_i = +1 | x_i, w) using the link function\n",
    "    y_pred = 1. / (1.+np.exp(-score)) + b    \n",
    "    return y_pred"
   ]
  },
  {
   "cell_type": "code",
   "execution_count": 18,
   "metadata": {},
   "outputs": [],
   "source": [
    " def predict(X, W, b):\n",
    "    '''\n",
    "    Hypothetical function  h(x)\n",
    "    Input: \n",
    "        - X: Input features\n",
    "        - W: weights/coefficients of logistic regression model\n",
    "        - b: bias or y-intercept of logistic regression classifier\n",
    "    Output:\n",
    "        - Y: list of predicted classes \n",
    "    '''\n",
    "    Z = 1 / (1 + np.exp(- (X.dot( W ) + b)))\n",
    "    Y = [-1 if z <=0.5 else 1 for z in Z]\n",
    "    return Y "
   ]
  },
  {
   "cell_type": "code",
   "execution_count": 19,
   "metadata": {},
   "outputs": [
    {
     "name": "stdout",
     "output_type": "stream",
     "text": [
      "Gradient mini-batch data points: 0.0\n",
      "                --> Should print 1.0\n"
     ]
    }
   ],
   "source": [
    "j = 1                        # Feature number\n",
    "i = 10                       # Data point start\n",
    "B = 10                       # Mini-batch size\n",
    "coefficients = np.zeros(X_train_sentiment.shape[1]) # A point w at which we are computing the gradient.\n",
    "\n",
    "predictions = predict_probability(X_train_sentiment.iloc[i:i+B,:], coefficients)\n",
    "indicator = (y_train.iloc[i:i+B]==+1)\n",
    "indicator = [1 if i==True else 0 for i in indicator['sentiment']]\n",
    "\n",
    "errors = indicator - predictions        \n",
    "gradient_mini_batch = errors.dot(X_train_sentiment.iloc[i:i+B,j].T)\n",
    "print(\"Gradient mini-batch data points: %s\" % gradient_mini_batch)\n",
    "print(\"                --> Should print 1.0\")"
   ]
  },
  {
   "cell_type": "code",
   "execution_count": 20,
   "metadata": {},
   "outputs": [],
   "source": [
    "from math import sqrt\n",
    "def logistic_regression_SG(feature_matrix, y_true, initial_coefficients, batch_size, max_iter, learning_rate=0.01):\n",
    "    '''\n",
    "    Input\n",
    "        - feature_matrix: input features\n",
    "        - y_true: target variable (product sentiment)\n",
    "        - initial_coefficients: list of coefficients \n",
    "        - batch_size: number of examples to use for updating weights\n",
    "        - max_iter: number of iterations for gradient ascent\n",
    "        - learning_rate: learning rate for gradient ascent\n",
    "    Output\n",
    "        - coefficients: model weights\n",
    "        - b: model bias/intercept\n",
    "        - log_likelihood_all: average log likilihood of weights\n",
    "    '''\n",
    "    log_likelihood_all = []\n",
    "    \n",
    "    # make sure it's a numpy array\n",
    "    coefficients = np.array(initial_coefficients)\n",
    "    # set seed=1 to produce consistent results\n",
    "    np.random.seed(seed=1)\n",
    "    # Shuffle the data before starting\n",
    "    permutation = np.random.permutation(len(feature_matrix))\n",
    "    feature_matrix = feature_matrix[permutation,:]\n",
    "    sentiment = y_true[permutation]\n",
    "    b=0\n",
    "    \n",
    "    i = 0 # index of current batch\n",
    "    # Do a linear scan over data\n",
    "    for itr in range(max_iter):\n",
    "        # Predict P(y_i = +1|x_i,w) using your predict_probability() function\n",
    "        # Make sure to slice the i-th row of feature_matrix with [i:i+batch_size,:]\n",
    "        predictions = predict_probability(feature_matrix[i:i+batch_size,:], coefficients)\n",
    "        \n",
    "        # Compute indicator value for (y_i = +1)\n",
    "        # Make sure to slice the i-th entry with [i:i+batch_size]\n",
    "        indicator = (sentiment[i:i+batch_size]==+1)\n",
    "        \n",
    "        # Compute the errors as indicator - predictions\n",
    "        errors = indicator - predictions\n",
    "        \n",
    "        for j in range(len(coefficients)): # loop over each coefficient\n",
    "            # Recall that feature_matrix[:,j] is the feature column associated with coefficients[j]\n",
    "            # Compute the derivative for coefficients[j] and save it to dW.\n",
    "            # Make sure to slice the i-th row of feature_matrix with [i:i+batch_size,j]\n",
    "            dW = errors.dot(feature_matrix[i:i+batch_size,j].T)\n",
    "            \n",
    "            # compute the product of the step size, the derivative, and the **normalization constant** (1./batch_size)\n",
    "            coefficients[j] += learning_rate * dW \n",
    "        \n",
    "        # Checking whether log likelihood is increasing\n",
    "        # Print the log likelihood over the *current batch*\n",
    "        lp = compute_avg_log_likelihood(feature_matrix[i:i+batch_size,:], y_true[i:i+batch_size],\n",
    "                                        coefficients)\n",
    "\n",
    "        log_likelihood_all.append(lp)\n",
    "        if itr <= 15 or (itr <= 1000 and itr % 100 == 0) or (itr <= 10000 and itr % 1000 == 0) \\\n",
    "         or itr % 10000 == 0 or itr == max_iter-1:\n",
    "            data_size = len(feature_matrix)\n",
    "            print('Iteration %*d: Average log likelihood (of data points in batch [%0*d:%0*d]) = %.8f' % \\\n",
    "                (int(np.ceil(np.log10(max_iter))), itr, \\\n",
    "                 int(np.ceil(np.log10(data_size))), i, \\\n",
    "                 int(np.ceil(np.log10(data_size))), i+batch_size, lp))\n",
    "        \n",
    "        # if we made a complete pass over data, shuffle and restart\n",
    "        i += batch_size\n",
    "        if i+batch_size > len(feature_matrix):\n",
    "            permutation = np.random.permutation(len(feature_matrix))\n",
    "            feature_matrix = feature_matrix[permutation,:]\n",
    "            sentiment = sentiment[permutation]\n",
    "            i = 0\n",
    "        # Learning rate schedule\n",
    "        learning_rate=learning_rate/1.02\n",
    "                \n",
    "    # We return the list of log likelihoods for plotting purposes.\n",
    "    return coefficients, b, log_likelihood_all"
   ]
  },
  {
   "cell_type": "code",
   "execution_count": 21,
   "metadata": {},
   "outputs": [
    {
     "name": "stdout",
     "output_type": "stream",
     "text": [
      "Iteration   0: Average log likelihood (of data points in batch [000:500]) = -471.43552431\n",
      "Iteration   1: Average log likelihood (of data points in batch [000:500]) = -993.04163614\n",
      "Iteration   2: Average log likelihood (of data points in batch [000:500]) = -442.65670769\n",
      "Iteration   3: Average log likelihood (of data points in batch [000:500]) = -550.55757976\n",
      "Iteration   4: Average log likelihood (of data points in batch [000:500]) = -298.15600973\n",
      "Iteration   5: Average log likelihood (of data points in batch [000:500]) = -453.69039956\n",
      "Iteration   6: Average log likelihood (of data points in batch [000:500]) = -201.82367407\n",
      "Iteration   7: Average log likelihood (of data points in batch [000:500]) = -171.16892490\n",
      "Iteration   8: Average log likelihood (of data points in batch [000:500]) = -129.88018102\n",
      "Iteration   9: Average log likelihood (of data points in batch [000:500]) = -126.35847758\n",
      "Iteration  10: Average log likelihood (of data points in batch [000:500]) = -60.65927353\n",
      "Iteration  11: Average log likelihood (of data points in batch [000:500]) = -77.70623542\n",
      "Iteration  12: Average log likelihood (of data points in batch [000:500]) = -95.51681159\n"
     ]
    },
    {
     "name": "stderr",
     "output_type": "stream",
     "text": [
      "/var/folders/6c/sgccp3hn0n5f2v4fcrxvyjn80000gn/T/ipykernel_8611/902364500.py:13: RuntimeWarning: overflow encountered in exp\n",
      "  logexp = np.log(1. + np.exp(-scores))\n",
      "/var/folders/6c/sgccp3hn0n5f2v4fcrxvyjn80000gn/T/ipykernel_8611/3720605603.py:16: RuntimeWarning: overflow encountered in exp\n",
      "  y_pred = 1. / (1.+np.exp(-score)) + b\n"
     ]
    },
    {
     "name": "stdout",
     "output_type": "stream",
     "text": [
      "Iteration  13: Average log likelihood (of data points in batch [000:500]) = -83.61548746\n",
      "Iteration  14: Average log likelihood (of data points in batch [000:500]) = -73.40575551\n",
      "Iteration  15: Average log likelihood (of data points in batch [000:500]) = -90.42881824\n",
      "Iteration 100: Average log likelihood (of data points in batch [000:500]) = -62.50501508\n",
      "Iteration 200: Average log likelihood (of data points in batch [000:500]) = -61.79026726\n",
      "Iteration 300: Average log likelihood (of data points in batch [000:500]) = -108.09727536\n",
      "Iteration 400: Average log likelihood (of data points in batch [000:500]) = -57.96139877\n",
      "Iteration 499: Average log likelihood (of data points in batch [000:500]) = -66.39756470\n"
     ]
    }
   ],
   "source": [
    "init_weights=np.zeros(X_train_sentiment.shape[1])\n",
    "num_iterations=500\n",
    "batch_size=500\n",
    "learning_rate=0.5\n",
    "\n",
    "sentiment_model_weights, sentiment_model_bias, log_likelihood = logistic_regression_SG(X_train_sentiment.to_numpy(), \n",
    "                                                      np.ravel(y_train), \n",
    "                                                      init_weights,\n",
    "                                                      batch_size=batch_size, \n",
    "                                                      max_iter=num_iterations,\n",
    "                                                      learning_rate=learning_rate)"
   ]
  },
  {
   "cell_type": "code",
   "execution_count": 22,
   "metadata": {},
   "outputs": [
    {
     "name": "stdout",
     "output_type": "stream",
     "text": [
      "Number of positive weights: 5736 \n",
      "Number of negative weights: 1014 \n"
     ]
    }
   ],
   "source": [
    "num_positive_weights = np.sum(sentiment_model_weights >= 0)\n",
    "num_negative_weights = np.sum(sentiment_model_weights < 0)\n",
    "\n",
    "print(\"Number of positive weights: %s \" % num_positive_weights)\n",
    "print(\"Number of negative weights: %s \" % num_negative_weights)"
   ]
  },
  {
   "cell_type": "code",
   "execution_count": 23,
   "metadata": {},
   "outputs": [
    {
     "data": {
      "image/png": "[encoded data removed]",
      "text/plain": [
       "<Figure size 640x480 with 1 Axes>"
      ]
     },
     "metadata": {},
     "output_type": "display_data"
    }
   ],
   "source": [
    "import matplotlib.pyplot as plt\n",
    "\n",
    "plt.plot([i for i in range(len(log_likelihood))], log_likelihood)\n",
    "plt.title(\"Log-Likelihood curve\")\n",
    "plt.xlabel(\"Training Iteration\")\n",
    "plt.ylabel(\"Log-likelihood\")\n",
    "plt.show()"
   ]
  },
  {
   "cell_type": "markdown",
   "metadata": {},
   "source": [
    "## Compute accuracy of the classifier\n",
    "\n",
    "We will now evaluate the accuracy of the trained classifier. Recall that the accuracy is given by\n",
    "\n",
    "$$\n",
    "accuracy = \\frac{\\textnormal{number of correctly classified examples}}{\\textnormal{number of total examples}}\n",
    "$$\n",
    "  \n",
    "This can be computed as follows:\n",
    "\n",
    "* **Step 1:** Use the trained model to compute class predictions (**Hint:** Use the `predict` method)\n",
    "* **Step 2:** Count the number of data points when the predicted class labels match the ground truth labels (called `true_labels` below).\n",
    "* **Step 3:** Divide the total number of correct predictions by the total number of data points in the dataset."
   ]
  },
  {
   "cell_type": "code",
   "execution_count": 24,
   "metadata": {},
   "outputs": [],
   "source": [
    "def get_classification_accuracy(prediction_labels, true_labels):\n",
    "    # First get the predictions\n",
    "    \n",
    "    # Compute the number of correctly classified examples\n",
    "    num_correct = np.sum(prediction_labels == true_labels)\n",
    "\n",
    "    # Then compute accuracy by dividing num_correct by total number of examples\n",
    "    accuracy = num_correct / len(true_labels)\n",
    "    \n",
    "    return accuracy"
   ]
  },
  {
   "cell_type": "markdown",
   "metadata": {},
   "source": [
    "Performance of our LSG model on traning and test data"
   ]
  },
  {
   "cell_type": "code",
   "execution_count": 25,
   "metadata": {},
   "outputs": [
    {
     "name": "stdout",
     "output_type": "stream",
     "text": [
      "0.996437054631829\n"
     ]
    },
    {
     "name": "stderr",
     "output_type": "stream",
     "text": [
      "/Users/angeliquetaylor/opt/anaconda3/lib/python3.8/site-packages/pandas/core/arraylike.py:364: RuntimeWarning: overflow encountered in exp\n",
      "  result = getattr(ufunc, method)(*inputs, **kwargs)\n"
     ]
    }
   ],
   "source": [
    "train_lg_accuracy = get_classification_accuracy(predict(X_train_sentiment, sentiment_model_weights, sentiment_model_bias), np.ravel(y_train))\n",
    "print(train_lg_accuracy)"
   ]
  },
  {
   "cell_type": "code",
   "execution_count": 26,
   "metadata": {},
   "outputs": [
    {
     "name": "stdout",
     "output_type": "stream",
     "text": [
      "0.9146919431279621\n"
     ]
    }
   ],
   "source": [
    "test_lg_accuracy = get_classification_accuracy(predict(X_test_sentiment, sentiment_model_weights, sentiment_model_bias), np.ravel(y_test))\n",
    "print(test_lg_accuracy)"
   ]
  }
 ],
 "metadata": {
  "kernelspec": {
   "display_name": "Python 3 (ipykernel)",
   "language": "python",
   "name": "python3"
  },
  "language_info": {
   "codemirror_mode": {
    "name": "ipython",
    "version": 3
   },
   "file_extension": ".py",
   "mimetype": "text/x-python",
   "name": "python",
   "nbconvert_exporter": "python",
   "pygments_lexer": "ipython3",
   "version": "3.8.18"
  },
  "vscode": {
   "interpreter": {
    "hash": "85463d1bb2888979eba71184c8d462df281b59dd3aecce6d9ffe8745b11b3329"
   }
  }
 },
 "nbformat": 4,
 "nbformat_minor": 4
}
