{
 "cells": [
  {
   "cell_type": "markdown",
   "metadata": {},
   "source": [
    "# Predicting sentiment from product reviews\n",
    "\n",
    "\n",
    "The goal of this notebook is to implement logistic regression and feature engineering for predicting product review sentiment using the Amazon Reviews dataset.\n",
    "\n",
    "* Feature engineering\n",
    "* Train a logistic regression model to predict the sentiment of product reviews.\n",
    "* Inspect the coefficients of the logistic regression model and interpret their meanings.\n",
    "* Make a prediction (both class and probability) of sentiment for a new product review.\n",
    "* Evaluate LG models using accuracy, precision, recall, and ROC Curves.\n",
    "\n",
    "Let's get started!"
   ]
  },
  {
   "cell_type": "code",
   "execution_count": 1,
   "metadata": {},
   "outputs": [],
   "source": [
    "import pandas as pd\n",
    "import numpy as np"
   ]
  },
  {
   "cell_type": "markdown",
   "metadata": {},
   "source": [
    "# Data preparation\n",
    "\n",
    "We will use a dataset consisting of Amazon.com product reviews."
   ]
  },
  {
   "cell_type": "code",
   "execution_count": 2,
   "metadata": {},
   "outputs": [],
   "source": [
    "products = pd.read_csv('../datasets/Amazon Product Reviews I.csv')"
   ]
  },
  {
   "cell_type": "code",
   "execution_count": 3,
   "metadata": {},
   "outputs": [
    {
     "name": "stdout",
     "output_type": "stream",
     "text": [
      "                     id       asins   brand                  categories  \\\n",
      "0  AVpe7AsMilAPnD_xQ78G  B00QJDU3KY  Amazon  Amazon Devices,mazon.co.uk   \n",
      "1  AVpe7AsMilAPnD_xQ78G  B00QJDU3KY  Amazon  Amazon Devices,mazon.co.uk   \n",
      "2  AVpe7AsMilAPnD_xQ78G  B00QJDU3KY  Amazon  Amazon Devices,mazon.co.uk   \n",
      "3  AVpe7AsMilAPnD_xQ78G  B00QJDU3KY  Amazon  Amazon Devices,mazon.co.uk   \n",
      "4  AVpe7AsMilAPnD_xQ78G  B00QJDU3KY  Amazon  Amazon Devices,mazon.co.uk   \n",
      "\n",
      "  colors             dateAdded           dateUpdated  \\\n",
      "0    NaN  2016-03-08T20:21:53Z  2017-07-18T23:52:58Z   \n",
      "1    NaN  2016-03-08T20:21:53Z  2017-07-18T23:52:58Z   \n",
      "2    NaN  2016-03-08T20:21:53Z  2017-07-18T23:52:58Z   \n",
      "3    NaN  2016-03-08T20:21:53Z  2017-07-18T23:52:58Z   \n",
      "4    NaN  2016-03-08T20:21:53Z  2017-07-18T23:52:58Z   \n",
      "\n",
      "                  dimension  ean                         keys  ...  \\\n",
      "0  169 mm x 117 mm x 9.1 mm  NaN  kindlepaperwhite/b00qjdu3ky  ...   \n",
      "1  169 mm x 117 mm x 9.1 mm  NaN  kindlepaperwhite/b00qjdu3ky  ...   \n",
      "2  169 mm x 117 mm x 9.1 mm  NaN  kindlepaperwhite/b00qjdu3ky  ...   \n",
      "3  169 mm x 117 mm x 9.1 mm  NaN  kindlepaperwhite/b00qjdu3ky  ...   \n",
      "4  169 mm x 117 mm x 9.1 mm  NaN  kindlepaperwhite/b00qjdu3ky  ...   \n",
      "\n",
      "  reviews.rating                                 reviews.sourceURLs  \\\n",
      "0            5.0  https://www.amazon.com/Kindle-Paperwhite-High-...   \n",
      "1            5.0  https://www.amazon.com/Kindle-Paperwhite-High-...   \n",
      "2            4.0  https://www.amazon.com/Kindle-Paperwhite-High-...   \n",
      "3            5.0  https://www.amazon.com/Kindle-Paperwhite-High-...   \n",
      "4            5.0  https://www.amazon.com/Kindle-Paperwhite-High-...   \n",
      "\n",
      "                                        reviews.text  \\\n",
      "0  I initially had trouble deciding between the p...   \n",
      "1  Allow me to preface this with a little history...   \n",
      "2  I am enjoying it so far. Great for reading. Ha...   \n",
      "3  I bought one of the first Paperwhites and have...   \n",
      "4  I have to say upfront - I don't like coroporat...   \n",
      "\n",
      "                                reviews.title reviews.userCity  \\\n",
      "0              Paperwhite voyage, no regrets!              NaN   \n",
      "1           One Simply Could Not Ask For More              NaN   \n",
      "2  Great for those that just want an e-reader              NaN   \n",
      "3                    Love / Hate relationship              NaN   \n",
      "4                                   I LOVE IT              NaN   \n",
      "\n",
      "  reviews.userProvince    reviews.username  sizes upc     weight  \n",
      "0                  NaN          Cristina M    NaN NaN  205 grams  \n",
      "1                  NaN               Ricky    NaN NaN  205 grams  \n",
      "2                  NaN       Tedd Gardiner    NaN NaN  205 grams  \n",
      "3                  NaN              Dougal    NaN NaN  205 grams  \n",
      "4                  NaN  Miljan David Tanic    NaN NaN  205 grams  \n",
      "\n",
      "[5 rows x 27 columns]\n"
     ]
    }
   ],
   "source": [
    "print(products.head())"
   ]
  },
  {
   "cell_type": "code",
   "execution_count": 4,
   "metadata": {},
   "outputs": [
    {
     "name": "stdout",
     "output_type": "stream",
     "text": [
      "['Alexa Voice Remote for Amazon Echo and Echo Dot'\n",
      " 'Alexa Voice Remote for Amazon Fire TV and Fire TV Stick'\n",
      " 'All-New Amazon Fire 7 Tablet Case (7th Generation'\n",
      " 'All-New Amazon Fire HD 8 Tablet Case (7th Generation'\n",
      " 'All-New Amazon Fire TV Game Controller'\n",
      " 'All-New Amazon Kid-Proof Case for Amazon Fire 7 Tablet (7th Generation'\n",
      " 'All-New Amazon Kid-Proof Case for Amazon Fire HD 8 Tablet (7th Generation'\n",
      " 'All-New Fire 7 Kids Edition Tablet' 'All-New Fire 7 Tablet with Alexa'\n",
      " 'All-New Fire HD 8 Kids Edition Tablet']\n"
     ]
    }
   ],
   "source": [
    "name=np.unique(products['name'])\n",
    "print(name[0:10])"
   ]
  },
  {
   "cell_type": "markdown",
   "metadata": {},
   "source": [
    "Now, let us see a preview of what the dataset looks like."
   ]
  },
  {
   "cell_type": "code",
   "execution_count": 5,
   "metadata": {},
   "outputs": [
    {
     "name": "stdout",
     "output_type": "stream",
     "text": [
      "                                             reviews  rating  \\\n",
      "0  I initially had trouble deciding between the p...     5.0   \n",
      "1  Allow me to preface this with a little history...     5.0   \n",
      "2  I am enjoying it so far. Great for reading. Ha...     4.0   \n",
      "3  I bought one of the first Paperwhites and have...     5.0   \n",
      "4  I have to say upfront - I don't like coroporat...     5.0   \n",
      "\n",
      "                                        title  \n",
      "0              Paperwhite voyage, no regrets!  \n",
      "1           One Simply Could Not Ask For More  \n",
      "2  Great for those that just want an e-reader  \n",
      "3                    Love / Hate relationship  \n",
      "4                                   I LOVE IT  \n"
     ]
    }
   ],
   "source": [
    "# Simplify relevant columns names\n",
    "if('reviews.rating' in products.columns):\n",
    "    products['rating']=products['reviews.rating']\n",
    "    products.drop(['reviews.rating'],axis=1, inplace=True)\n",
    "\n",
    "if('reviews.text' in products.columns):\n",
    "    products['reviews']=products['reviews.text']\n",
    "    products.drop(['reviews.text'],axis=1, inplace=True)\n",
    "    \n",
    "if('reviews.title' in products.columns):\n",
    "    products['title']=products['reviews.title']\n",
    "    products.drop(['reviews.title'],axis=1, inplace=True)\n",
    "\n",
    "# Drop irrelevant columns\n",
    "relevant_cols=['reviews','rating','title']\n",
    "products = products.loc[:, relevant_cols]\n",
    "\n",
    "# Drop Nana\n",
    "products.dropna(subset=['rating', 'reviews','title'], inplace=True)\n",
    "products.reset_index(drop=True, inplace=True)\n",
    "\n",
    "print(products.head())"
   ]
  },
  {
   "cell_type": "markdown",
   "metadata": {},
   "source": [
    "Let us explore a specific example of a Amazon product."
   ]
  },
  {
   "cell_type": "code",
   "execution_count": 6,
   "metadata": {},
   "outputs": [
    {
     "name": "stdout",
     "output_type": "stream",
     "text": [
      "I can read a lot longer without pain in my hands since the cover holds it for me. Very nice shade of blue.\n"
     ]
    }
   ],
   "source": [
    "print(products['reviews'][269])"
   ]
  },
  {
   "cell_type": "markdown",
   "metadata": {},
   "source": [
    "## Build the word count vector for each review"
   ]
  },
  {
   "cell_type": "markdown",
   "metadata": {},
   "source": [
    "Now, we will perform 2 simple data transformations:\n",
    "\n",
    "1. Remove punctuation using [Python's built-in](https://docs.python.org/2/library/string.html) string functionality.\n",
    "2. Transform the reviews into word-counts.\n",
    "\n",
    "**Aside**. In this notebook, we remove all punctuations for the sake of simplicity. A smarter approach to punctuations would preserve phrases such as \"I'd\", \"would've\", \"hadn't\" and so forth. See [this page](https://neptune.ai/blog/tokenization-in-nlp) for an example of smart handling of punctuations."
   ]
  },
  {
   "cell_type": "code",
   "execution_count": 7,
   "metadata": {},
   "outputs": [
    {
     "name": "stdout",
     "output_type": "stream",
     "text": [
      "0       I initially had trouble deciding between the p...\n",
      "1       Allow me to preface this with a little history...\n",
      "2       I am enjoying it so far Great for reading Had ...\n",
      "3       I bought one of the first Paperwhites and have...\n",
      "4       I have to say upfront  I dont like coroporate ...\n",
      "                              ...                        \n",
      "1172    This is not the same remote that I got for my ...\n",
      "1173    I have had to change the batteries in this rem...\n",
      "1174    Remote did not activate nor did it connect to ...\n",
      "1175    It does the job but is super over priced I fee...\n",
      "1176    I ordered this item to replace the one that no...\n",
      "Name: reviews, Length: 1177, dtype: object\n"
     ]
    }
   ],
   "source": [
    "import string \n",
    "def remove_punctuation(text):\n",
    "    try: # python 2.x\n",
    "        text = text.translate(None, string.punctuation) \n",
    "    except: # python 3.x\n",
    "        translator = text.maketrans('', '', string.punctuation)\n",
    "        text = text.translate(translator)\n",
    "    return text\n",
    "\n",
    "products['reviews'] = products['reviews'].apply(remove_punctuation)\n",
    "print(products['reviews'])"
   ]
  },
  {
   "cell_type": "code",
   "execution_count": 8,
   "metadata": {},
   "outputs": [
    {
     "name": "stdout",
     "output_type": "stream",
     "text": [
      "                                             reviews  rating  \\\n",
      "0  I initially had trouble deciding between the p...     5.0   \n",
      "1  Allow me to preface this with a little history...     5.0   \n",
      "2  I am enjoying it so far Great for reading Had ...     4.0   \n",
      "3  I bought one of the first Paperwhites and have...     5.0   \n",
      "4  I have to say upfront  I dont like coroporate ...     5.0   \n",
      "\n",
      "                                        title  word_count_0  word_count_1  \\\n",
      "0              Paperwhite voyage, no regrets!             0             0   \n",
      "1           One Simply Could Not Ask For More             0             0   \n",
      "2  Great for those that just want an e-reader             0             0   \n",
      "3                    Love / Hate relationship             0             0   \n",
      "4                                   I LOVE IT             0             0   \n",
      "\n",
      "   word_count_2  word_count_3  word_count_4  word_count_5  word_count_6  ...  \\\n",
      "0             0             0             0             0             0  ...   \n",
      "1             0             0             0             0             0  ...   \n",
      "2             0             0             0             0             0  ...   \n",
      "3             0             0             0             0             0  ...   \n",
      "4             0             0             0             0             0  ...   \n",
      "\n",
      "   word_count_6740  word_count_6741  word_count_6742  word_count_6743  \\\n",
      "0                0                0                0                0   \n",
      "1                0                0                0                0   \n",
      "2                0                0                0                0   \n",
      "3                0                0                0                0   \n",
      "4                0                0                0                0   \n",
      "\n",
      "   word_count_6744  word_count_6745  word_count_6746  word_count_6747  \\\n",
      "0                0                0                0                0   \n",
      "1                0                0                0                0   \n",
      "2                0                0                0                0   \n",
      "3                0                0                0                0   \n",
      "4                0                0                0                0   \n",
      "\n",
      "   word_count_6748  word_count_6749  \n",
      "0                0                0  \n",
      "1                0                0  \n",
      "2                0                0  \n",
      "3                0                0  \n",
      "4                0                0  \n",
      "\n",
      "[5 rows x 6753 columns]\n"
     ]
    }
   ],
   "source": [
    "# Word Importance: Frequency counts\n",
    "from sklearn.feature_extraction.text import CountVectorizer\n",
    "\n",
    "count_vect = CountVectorizer()\n",
    "X_train_counts = count_vect.fit_transform(products['reviews'])\n",
    "word_count_df = pd.DataFrame(X_train_counts.toarray())\n",
    "word_count_df = word_count_df.add_prefix('word_count_')\n",
    "products = pd.concat([products, word_count_df], axis=1)\n",
    "print(products.head())"
   ]
  },
  {
   "cell_type": "code",
   "execution_count": 9,
   "metadata": {},
   "outputs": [
    {
     "name": "stdout",
     "output_type": "stream",
     "text": [
      "(1177, 6750)\n",
      "                                             reviews  rating  \\\n",
      "0  I initially had trouble deciding between the p...     5.0   \n",
      "1  Allow me to preface this with a little history...     5.0   \n",
      "2  I am enjoying it so far Great for reading Had ...     4.0   \n",
      "3  I bought one of the first Paperwhites and have...     5.0   \n",
      "4  I have to say upfront  I dont like coroporate ...     5.0   \n",
      "\n",
      "                                        title  word_count_0  word_count_1  \\\n",
      "0              Paperwhite voyage, no regrets!             0             0   \n",
      "1           One Simply Could Not Ask For More             0             0   \n",
      "2  Great for those that just want an e-reader             0             0   \n",
      "3                    Love / Hate relationship             0             0   \n",
      "4                                   I LOVE IT             0             0   \n",
      "\n",
      "   word_count_2  word_count_3  word_count_4  word_count_5  word_count_6  ...  \\\n",
      "0             0             0             0             0             0  ...   \n",
      "1             0             0             0             0             0  ...   \n",
      "2             0             0             0             0             0  ...   \n",
      "3             0             0             0             0             0  ...   \n",
      "4             0             0             0             0             0  ...   \n",
      "\n",
      "   tfidf_word_count_word_count_6740  tfidf_word_count_word_count_6741  \\\n",
      "0                                 0                                 0   \n",
      "1                                 0                                 0   \n",
      "2                                 0                                 0   \n",
      "3                                 0                                 0   \n",
      "4                                 0                                 0   \n",
      "\n",
      "   tfidf_word_count_word_count_6742  tfidf_word_count_word_count_6743  \\\n",
      "0                                 0                                 0   \n",
      "1                                 0                                 0   \n",
      "2                                 0                                 0   \n",
      "3                                 0                                 0   \n",
      "4                                 0                                 0   \n",
      "\n",
      "   tfidf_word_count_word_count_6744  tfidf_word_count_word_count_6745  \\\n",
      "0                                 0                                 0   \n",
      "1                                 0                                 0   \n",
      "2                                 0                                 0   \n",
      "3                                 0                                 0   \n",
      "4                                 0                                 0   \n",
      "\n",
      "   tfidf_word_count_word_count_6746  tfidf_word_count_word_count_6747  \\\n",
      "0                                 0                                 0   \n",
      "1                                 0                                 0   \n",
      "2                                 0                                 0   \n",
      "3                                 0                                 0   \n",
      "4                                 0                                 0   \n",
      "\n",
      "   tfidf_word_count_word_count_6748  tfidf_word_count_word_count_6749  \n",
      "0                                 0                                 0  \n",
      "1                                 0                                 0  \n",
      "2                                 0                                 0  \n",
      "3                                 0                                 0  \n",
      "4                                 0                                 0  \n",
      "\n",
      "[5 rows x 13503 columns]\n"
     ]
    }
   ],
   "source": [
    "# Word Importance: TF-IDF\n",
    "from sklearn.feature_extraction.text import TfidfTransformer\n",
    "\n",
    "tfidf_transformer = TfidfTransformer()\n",
    "X_train_tfidf = tfidf_transformer.fit_transform(X_train_counts)\n",
    "print(X_train_tfidf.shape)\n",
    "\n",
    "tfidf_df = pd.DataFrame(X_train_tfidf.toarray())\n",
    "tfidf_df = word_count_df.add_prefix('tfidf_word_count_')\n",
    "products = pd.concat([products, tfidf_df], axis=1)\n",
    "\n",
    "print(products.head())"
   ]
  },
  {
   "cell_type": "markdown",
   "metadata": {},
   "source": [
    "Now, let us explore what the sample example above looks like after these 2 transformations. Here, each entry in the **word_count** column is a dictionary where the key is the word and the value is a count of the number of times the word occurs."
   ]
  },
  {
   "cell_type": "markdown",
   "metadata": {},
   "source": [
    "## Extract sentiments\n",
    "\n",
    "We will **ignore** all reviews with *rating = 3*, since they tend to have a neutral sentiment."
   ]
  },
  {
   "cell_type": "code",
   "execution_count": 10,
   "metadata": {},
   "outputs": [
    {
     "data": {
      "text/plain": [
       "(1053, 13503)"
      ]
     },
     "execution_count": 10,
     "metadata": {},
     "output_type": "execute_result"
    }
   ],
   "source": [
    "products = products[products['rating'] != 3]\n",
    "products.reset_index(drop=True, inplace=True)\n",
    "products.shape"
   ]
  },
  {
   "cell_type": "markdown",
   "metadata": {},
   "source": [
    "Now, we will assign reviews with a rating of 4 or higher to be *positive* reviews, while the ones with rating of 2 or lower are *negative*. For the sentiment column, we use +1 for the positive class label and -1 for the negative class label."
   ]
  },
  {
   "cell_type": "code",
   "execution_count": 11,
   "metadata": {},
   "outputs": [
    {
     "data": {
      "text/html": [
       "<div>\n",
       "<style scoped>\n",
       "    .dataframe tbody tr th:only-of-type {\n",
       "        vertical-align: middle;\n",
       "    }\n",
       "\n",
       "    .dataframe tbody tr th {\n",
       "        vertical-align: top;\n",
       "    }\n",
       "\n",
       "    .dataframe thead th {\n",
       "        text-align: right;\n",
       "    }\n",
       "</style>\n",
       "<table border=\"1\" class=\"dataframe\">\n",
       "  <thead>\n",
       "    <tr style=\"text-align: right;\">\n",
       "      <th></th>\n",
       "      <th>reviews</th>\n",
       "      <th>rating</th>\n",
       "      <th>title</th>\n",
       "      <th>word_count_0</th>\n",
       "      <th>word_count_1</th>\n",
       "      <th>word_count_2</th>\n",
       "      <th>word_count_3</th>\n",
       "      <th>word_count_4</th>\n",
       "      <th>word_count_5</th>\n",
       "      <th>word_count_6</th>\n",
       "      <th>...</th>\n",
       "      <th>tfidf_word_count_word_count_6741</th>\n",
       "      <th>tfidf_word_count_word_count_6742</th>\n",
       "      <th>tfidf_word_count_word_count_6743</th>\n",
       "      <th>tfidf_word_count_word_count_6744</th>\n",
       "      <th>tfidf_word_count_word_count_6745</th>\n",
       "      <th>tfidf_word_count_word_count_6746</th>\n",
       "      <th>tfidf_word_count_word_count_6747</th>\n",
       "      <th>tfidf_word_count_word_count_6748</th>\n",
       "      <th>tfidf_word_count_word_count_6749</th>\n",
       "      <th>sentiment</th>\n",
       "    </tr>\n",
       "  </thead>\n",
       "  <tbody>\n",
       "    <tr>\n",
       "      <th>0</th>\n",
       "      <td>I initially had trouble deciding between the p...</td>\n",
       "      <td>5.0</td>\n",
       "      <td>Paperwhite voyage, no regrets!</td>\n",
       "      <td>0</td>\n",
       "      <td>0</td>\n",
       "      <td>0</td>\n",
       "      <td>0</td>\n",
       "      <td>0</td>\n",
       "      <td>0</td>\n",
       "      <td>0</td>\n",
       "      <td>...</td>\n",
       "      <td>0</td>\n",
       "      <td>0</td>\n",
       "      <td>0</td>\n",
       "      <td>0</td>\n",
       "      <td>0</td>\n",
       "      <td>0</td>\n",
       "      <td>0</td>\n",
       "      <td>0</td>\n",
       "      <td>0</td>\n",
       "      <td>1</td>\n",
       "    </tr>\n",
       "    <tr>\n",
       "      <th>1</th>\n",
       "      <td>Allow me to preface this with a little history...</td>\n",
       "      <td>5.0</td>\n",
       "      <td>One Simply Could Not Ask For More</td>\n",
       "      <td>0</td>\n",
       "      <td>0</td>\n",
       "      <td>0</td>\n",
       "      <td>0</td>\n",
       "      <td>0</td>\n",
       "      <td>0</td>\n",
       "      <td>0</td>\n",
       "      <td>...</td>\n",
       "      <td>0</td>\n",
       "      <td>0</td>\n",
       "      <td>0</td>\n",
       "      <td>0</td>\n",
       "      <td>0</td>\n",
       "      <td>0</td>\n",
       "      <td>0</td>\n",
       "      <td>0</td>\n",
       "      <td>0</td>\n",
       "      <td>1</td>\n",
       "    </tr>\n",
       "    <tr>\n",
       "      <th>2</th>\n",
       "      <td>I am enjoying it so far Great for reading Had ...</td>\n",
       "      <td>4.0</td>\n",
       "      <td>Great for those that just want an e-reader</td>\n",
       "      <td>0</td>\n",
       "      <td>0</td>\n",
       "      <td>0</td>\n",
       "      <td>0</td>\n",
       "      <td>0</td>\n",
       "      <td>0</td>\n",
       "      <td>0</td>\n",
       "      <td>...</td>\n",
       "      <td>0</td>\n",
       "      <td>0</td>\n",
       "      <td>0</td>\n",
       "      <td>0</td>\n",
       "      <td>0</td>\n",
       "      <td>0</td>\n",
       "      <td>0</td>\n",
       "      <td>0</td>\n",
       "      <td>0</td>\n",
       "      <td>1</td>\n",
       "    </tr>\n",
       "    <tr>\n",
       "      <th>3</th>\n",
       "      <td>I bought one of the first Paperwhites and have...</td>\n",
       "      <td>5.0</td>\n",
       "      <td>Love / Hate relationship</td>\n",
       "      <td>0</td>\n",
       "      <td>0</td>\n",
       "      <td>0</td>\n",
       "      <td>0</td>\n",
       "      <td>0</td>\n",
       "      <td>0</td>\n",
       "      <td>0</td>\n",
       "      <td>...</td>\n",
       "      <td>0</td>\n",
       "      <td>0</td>\n",
       "      <td>0</td>\n",
       "      <td>0</td>\n",
       "      <td>0</td>\n",
       "      <td>0</td>\n",
       "      <td>0</td>\n",
       "      <td>0</td>\n",
       "      <td>0</td>\n",
       "      <td>1</td>\n",
       "    </tr>\n",
       "    <tr>\n",
       "      <th>4</th>\n",
       "      <td>I have to say upfront  I dont like coroporate ...</td>\n",
       "      <td>5.0</td>\n",
       "      <td>I LOVE IT</td>\n",
       "      <td>0</td>\n",
       "      <td>0</td>\n",
       "      <td>0</td>\n",
       "      <td>0</td>\n",
       "      <td>0</td>\n",
       "      <td>0</td>\n",
       "      <td>0</td>\n",
       "      <td>...</td>\n",
       "      <td>0</td>\n",
       "      <td>0</td>\n",
       "      <td>0</td>\n",
       "      <td>0</td>\n",
       "      <td>0</td>\n",
       "      <td>0</td>\n",
       "      <td>0</td>\n",
       "      <td>0</td>\n",
       "      <td>0</td>\n",
       "      <td>1</td>\n",
       "    </tr>\n",
       "  </tbody>\n",
       "</table>\n",
       "<p>5 rows × 13504 columns</p>\n",
       "</div>"
      ],
      "text/plain": [
       "                                             reviews  rating  \\\n",
       "0  I initially had trouble deciding between the p...     5.0   \n",
       "1  Allow me to preface this with a little history...     5.0   \n",
       "2  I am enjoying it so far Great for reading Had ...     4.0   \n",
       "3  I bought one of the first Paperwhites and have...     5.0   \n",
       "4  I have to say upfront  I dont like coroporate ...     5.0   \n",
       "\n",
       "                                        title  word_count_0  word_count_1  \\\n",
       "0              Paperwhite voyage, no regrets!             0             0   \n",
       "1           One Simply Could Not Ask For More             0             0   \n",
       "2  Great for those that just want an e-reader             0             0   \n",
       "3                    Love / Hate relationship             0             0   \n",
       "4                                   I LOVE IT             0             0   \n",
       "\n",
       "   word_count_2  word_count_3  word_count_4  word_count_5  word_count_6  ...  \\\n",
       "0             0             0             0             0             0  ...   \n",
       "1             0             0             0             0             0  ...   \n",
       "2             0             0             0             0             0  ...   \n",
       "3             0             0             0             0             0  ...   \n",
       "4             0             0             0             0             0  ...   \n",
       "\n",
       "   tfidf_word_count_word_count_6741  tfidf_word_count_word_count_6742  \\\n",
       "0                                 0                                 0   \n",
       "1                                 0                                 0   \n",
       "2                                 0                                 0   \n",
       "3                                 0                                 0   \n",
       "4                                 0                                 0   \n",
       "\n",
       "   tfidf_word_count_word_count_6743  tfidf_word_count_word_count_6744  \\\n",
       "0                                 0                                 0   \n",
       "1                                 0                                 0   \n",
       "2                                 0                                 0   \n",
       "3                                 0                                 0   \n",
       "4                                 0                                 0   \n",
       "\n",
       "   tfidf_word_count_word_count_6745  tfidf_word_count_word_count_6746  \\\n",
       "0                                 0                                 0   \n",
       "1                                 0                                 0   \n",
       "2                                 0                                 0   \n",
       "3                                 0                                 0   \n",
       "4                                 0                                 0   \n",
       "\n",
       "   tfidf_word_count_word_count_6747  tfidf_word_count_word_count_6748  \\\n",
       "0                                 0                                 0   \n",
       "1                                 0                                 0   \n",
       "2                                 0                                 0   \n",
       "3                                 0                                 0   \n",
       "4                                 0                                 0   \n",
       "\n",
       "   tfidf_word_count_word_count_6749  sentiment  \n",
       "0                                 0          1  \n",
       "1                                 0          1  \n",
       "2                                 0          1  \n",
       "3                                 0          1  \n",
       "4                                 0          1  \n",
       "\n",
       "[5 rows x 13504 columns]"
      ]
     },
     "execution_count": 11,
     "metadata": {},
     "output_type": "execute_result"
    }
   ],
   "source": [
    "products['sentiment'] = products['rating'].apply(lambda r: +1 if r > 3 else -1)\n",
    "products.head()"
   ]
  },
  {
   "cell_type": "code",
   "execution_count": 12,
   "metadata": {},
   "outputs": [
    {
     "data": {
      "text/plain": [
       "array([[<Axes: title={'center': 'sentiment'}>]], dtype=object)"
      ]
     },
     "execution_count": 12,
     "metadata": {},
     "output_type": "execute_result"
    },
    {
     "data": {
      "image/png": "[encoded data removed]",
      "text/plain": [
       "<Figure size 640x480 with 1 Axes>"
      ]
     },
     "metadata": {},
     "output_type": "display_data"
    }
   ],
   "source": [
    "# View number of positive and negative sentiment\n",
    "products.hist(column=['sentiment'])"
   ]
  },
  {
   "cell_type": "markdown",
   "metadata": {},
   "source": [
    "Now, we can see that the dataset contains an extra column called **sentiment** which is either positive (+1) or negative (-1).\n",
    "\n",
    "Note, there are significantly more positive reviews than negative reviews."
   ]
  },
  {
   "cell_type": "markdown",
   "metadata": {},
   "source": [
    "# Match number of positive and negative reviews"
   ]
  },
  {
   "cell_type": "code",
   "execution_count": 13,
   "metadata": {},
   "outputs": [
    {
     "data": {
      "text/plain": [
       "\"\\n# Report number of positive examples\\npositive_sent = products[products['sentiment']==1]\\nprint('There are {} positive reviews'.format(len(positive_sent)))\\n\\n# Report number of negative examples\\nnegative_sent = products[products['sentiment']==-1]\\nprint('There are {} negative reviews'.format(len(negative_sent)))\\n\\n# Sample number of negative example from positive examples (# positive > # negative)\\npositive_sample = positive_sent.sample(n = len(negative_sent))\\nprint('[Update] There are {} positive reviews'.format(len(positive_sample)))\\n\\n# Merge positive and negative examples and update products dataframe\\nframes = [negative_sent, positive_sample]\\nproducts = pd.concat(frames)\\n\""
      ]
     },
     "execution_count": 13,
     "metadata": {},
     "output_type": "execute_result"
    }
   ],
   "source": [
    "'''\n",
    "# Report number of positive examples\n",
    "positive_sent = products[products['sentiment']==1]\n",
    "print('There are {} positive reviews'.format(len(positive_sent)))\n",
    "\n",
    "# Report number of negative examples\n",
    "negative_sent = products[products['sentiment']==-1]\n",
    "print('There are {} negative reviews'.format(len(negative_sent)))\n",
    "\n",
    "# Sample number of negative example from positive examples (# positive > # negative)\n",
    "positive_sample = positive_sent.sample(n = len(negative_sent))\n",
    "print('[Update] There are {} positive reviews'.format(len(positive_sample)))\n",
    "\n",
    "# Merge positive and negative examples and update products dataframe\n",
    "frames = [negative_sent, positive_sample]\n",
    "products = pd.concat(frames)\n",
    "'''"
   ]
  },
  {
   "cell_type": "code",
   "execution_count": 14,
   "metadata": {},
   "outputs": [
    {
     "name": "stdout",
     "output_type": "stream",
     "text": [
      "                                             reviews  rating  \\\n",
      "0  I initially had trouble deciding between the p...     5.0   \n",
      "1  Allow me to preface this with a little history...     5.0   \n",
      "2  I am enjoying it so far Great for reading Had ...     4.0   \n",
      "3  I bought one of the first Paperwhites and have...     5.0   \n",
      "4  I have to say upfront  I dont like coroporate ...     5.0   \n",
      "\n",
      "                                        title  word_count_0  word_count_1  \\\n",
      "0              Paperwhite voyage, no regrets!             0             0   \n",
      "1           One Simply Could Not Ask For More             0             0   \n",
      "2  Great for those that just want an e-reader             0             0   \n",
      "3                    Love / Hate relationship             0             0   \n",
      "4                                   I LOVE IT             0             0   \n",
      "\n",
      "   word_count_2  word_count_3  word_count_4  word_count_5  word_count_6  ...  \\\n",
      "0             0             0             0             0             0  ...   \n",
      "1             0             0             0             0             0  ...   \n",
      "2             0             0             0             0             0  ...   \n",
      "3             0             0             0             0             0  ...   \n",
      "4             0             0             0             0             0  ...   \n",
      "\n",
      "   tfidf_word_count_word_count_6741  tfidf_word_count_word_count_6742  \\\n",
      "0                                 0                                 0   \n",
      "1                                 0                                 0   \n",
      "2                                 0                                 0   \n",
      "3                                 0                                 0   \n",
      "4                                 0                                 0   \n",
      "\n",
      "   tfidf_word_count_word_count_6743  tfidf_word_count_word_count_6744  \\\n",
      "0                                 0                                 0   \n",
      "1                                 0                                 0   \n",
      "2                                 0                                 0   \n",
      "3                                 0                                 0   \n",
      "4                                 0                                 0   \n",
      "\n",
      "   tfidf_word_count_word_count_6745  tfidf_word_count_word_count_6746  \\\n",
      "0                                 0                                 0   \n",
      "1                                 0                                 0   \n",
      "2                                 0                                 0   \n",
      "3                                 0                                 0   \n",
      "4                                 0                                 0   \n",
      "\n",
      "   tfidf_word_count_word_count_6747  tfidf_word_count_word_count_6748  \\\n",
      "0                                 0                                 0   \n",
      "1                                 0                                 0   \n",
      "2                                 0                                 0   \n",
      "3                                 0                                 0   \n",
      "4                                 0                                 0   \n",
      "\n",
      "   tfidf_word_count_word_count_6749  sentiment  \n",
      "0                                 0          1  \n",
      "1                                 0          1  \n",
      "2                                 0          1  \n",
      "3                                 0          1  \n",
      "4                                 0          1  \n",
      "\n",
      "[5 rows x 13504 columns]\n"
     ]
    }
   ],
   "source": [
    "print(products.head())"
   ]
  },
  {
   "cell_type": "code",
   "execution_count": 15,
   "metadata": {},
   "outputs": [
    {
     "name": "stdout",
     "output_type": "stream",
     "text": [
      "                                                reviews  rating  \\\n",
      "1048  Voice remote gave out nearly a year after I pu...     1.0   \n",
      "1049  Purchased my first one with the TV Fire box ov...     2.0   \n",
      "1050  I have had to change the batteries in this rem...     1.0   \n",
      "1051  Remote did not activate nor did it connect to ...     1.0   \n",
      "1052  I ordered this item to replace the one that no...     1.0   \n",
      "\n",
      "                                                  title  word_count_0  \\\n",
      "1048  OEM Remote gave out after 12 months, consideri...             0   \n",
      "1049               My voice remote controller pooed out             0   \n",
      "1050                        Battery draining remote!!!!             0   \n",
      "1051      replacing an even worse remote. Waste of time             0   \n",
      "1052  I am sending all of this crap back to amazon a...             0   \n",
      "\n",
      "      word_count_1  word_count_2  word_count_3  word_count_4  word_count_5  \\\n",
      "1048             0             0             0             0             0   \n",
      "1049             0             0             0             0             0   \n",
      "1050             0             0             0             0             0   \n",
      "1051             0             0             0             0             0   \n",
      "1052             0             0             0             0             0   \n",
      "\n",
      "      word_count_6  ...  tfidf_word_count_word_count_6741  \\\n",
      "1048             0  ...                                 0   \n",
      "1049             0  ...                                 0   \n",
      "1050             0  ...                                 0   \n",
      "1051             0  ...                                 0   \n",
      "1052             0  ...                                 0   \n",
      "\n",
      "      tfidf_word_count_word_count_6742  tfidf_word_count_word_count_6743  \\\n",
      "1048                                 0                                 0   \n",
      "1049                                 0                                 0   \n",
      "1050                                 0                                 0   \n",
      "1051                                 0                                 0   \n",
      "1052                                 0                                 0   \n",
      "\n",
      "      tfidf_word_count_word_count_6744  tfidf_word_count_word_count_6745  \\\n",
      "1048                                 0                                 0   \n",
      "1049                                 0                                 0   \n",
      "1050                                 0                                 0   \n",
      "1051                                 0                                 0   \n",
      "1052                                 0                                 0   \n",
      "\n",
      "      tfidf_word_count_word_count_6746  tfidf_word_count_word_count_6747  \\\n",
      "1048                                 0                                 0   \n",
      "1049                                 0                                 0   \n",
      "1050                                 0                                 0   \n",
      "1051                                 0                                 0   \n",
      "1052                                 0                                 0   \n",
      "\n",
      "      tfidf_word_count_word_count_6748  tfidf_word_count_word_count_6749  \\\n",
      "1048                                 0                                 0   \n",
      "1049                                 0                                 0   \n",
      "1050                                 0                                 0   \n",
      "1051                                 0                                 0   \n",
      "1052                                 0                                 0   \n",
      "\n",
      "      sentiment  \n",
      "1048         -1  \n",
      "1049         -1  \n",
      "1050         -1  \n",
      "1051         -1  \n",
      "1052         -1  \n",
      "\n",
      "[5 rows x 13504 columns]\n"
     ]
    }
   ],
   "source": [
    "print(products.tail())"
   ]
  },
  {
   "cell_type": "markdown",
   "metadata": {},
   "source": [
    "## Split data into training and test sets"
   ]
  },
  {
   "cell_type": "markdown",
   "metadata": {},
   "source": [
    "Let's perform a train/test split with 80% of the data in the training set and 20% of the data in the test set. We use `seed=1` so that everyone gets the same result."
   ]
  },
  {
   "cell_type": "code",
   "execution_count": 16,
   "metadata": {},
   "outputs": [],
   "source": [
    "from sklearn.model_selection import train_test_split\n",
    "\n",
    "X, y = products.loc[:, ~products.columns.isin(['sentiment'])], products.loc[:, products.columns.isin(['sentiment'])]\n",
    "\n",
    "X_train, X_test, y_train, y_test = train_test_split(X, y, test_size=.3, random_state=1)"
   ]
  },
  {
   "cell_type": "markdown",
   "metadata": {},
   "source": [
    "Just like in the earlier assignments, we convert Pandas dataframe into a NumPy array. Two arrays are returned: one representing features and another representing class labels. "
   ]
  },
  {
   "cell_type": "markdown",
   "metadata": {},
   "source": [
    "## Building on logistic regression\n",
    "\n",
    "Recall from lecture that the link function for logistic regression can be defined as:\n",
    "\n",
    "$$\n",
    "P(y_i = +1 | \\mathbf{x}_i,\\mathbf{w}) = \\frac{1}{1 + \\exp(-\\mathbf{w}^T h(\\mathbf{x}_i))},\n",
    "$$\n",
    "\n",
    "where the feature vector $h(\\mathbf{x}_i)$ is given by the word counts of **important_words** in the review $\\mathbf{x}_i$. \n",
    "\n",
    "\n",
    "We will now use logistic regression to create a sentiment classifier on the training data. This model will use the column **word_count** as a feature and the column **sentiment** as the target. "
   ]
  },
  {
   "cell_type": "code",
   "execution_count": 17,
   "metadata": {},
   "outputs": [],
   "source": [
    "def predict_probability(X, W, b=0):\n",
    "    '''\n",
    "    Produces probabilistic estimate for P(y_i = +1 | x_i, w)\n",
    "        Estimate ranges between 0 and 1.\n",
    "    Input:\n",
    "        - X: Input features\n",
    "        - W: weights/coefficients of logistic regression model\n",
    "        - b: bias or y-intercept of logistic regression classifier\n",
    "    Output:\n",
    "        - y_pred: probability of positive product review\n",
    "    '''\n",
    "    # Take dot product of feature_matrix and coefficients  \n",
    "    score = np.dot(X, W)\n",
    "    \n",
    "    # Compute P(y_i = +1 | x_i, w) using the link function\n",
    "    y_pred = 1. / (1.+np.exp(-score)) + b    \n",
    "    return y_pred"
   ]
  },
  {
   "cell_type": "markdown",
   "metadata": {},
   "source": [
    "To track the performance of gradient ascent, we provide a function for computing **average log likelihood**. \n",
    "\n",
    "$$\\ell\\ell_A(\\mathbf{w}) = \\color{black}{\\frac{1}{N}} \\sum_{i=1}^N \\Big( (\\mathbf{1}[y_i = +1] - 1)\\mathbf{w}^T h(\\mathbf{x}_i) - \\ln\\left(1 + \\exp(-\\mathbf{w}^T h(\\mathbf{x}_i))\\right) \\Big) $$\n"
   ]
  },
  {
   "cell_type": "code",
   "execution_count": 18,
   "metadata": {},
   "outputs": [],
   "source": [
    "def compute_avg_log_likelihood(feature_matrix, sentiment, coefficients):\n",
    "    '''\n",
    "    Compute the average log-likelihood of logistic regression coefficients\n",
    "    Input\n",
    "        - feature_matrix: subset of features in dataset\n",
    "        - sentiment: true sentiment of inputs\n",
    "        - coefficients: logistic regression weights\n",
    "    Output\n",
    "        - lp: log likelihood estimation\n",
    "    '''\n",
    "    indicator = (sentiment==+1)\n",
    "    scores = np.dot(feature_matrix, coefficients)\n",
    "    logexp = np.log(1. + np.exp(-scores))\n",
    "    \n",
    "    # Simple check to prevent overflow\n",
    "    mask = np.isinf(logexp)\n",
    "    logexp[mask] = -scores[mask]\n",
    "    \n",
    "    lp = np.sum((indicator-1)*scores - logexp)/len(feature_matrix)\n",
    "    \n",
    "    return lp"
   ]
  },
  {
   "cell_type": "code",
   "execution_count": 19,
   "metadata": {},
   "outputs": [],
   "source": [
    "# Helper function to update weights in gradient descent \n",
    "def update_weights(X, Y, W, b, learning_rate, log_likelihood):      \n",
    "    '''\n",
    "    Update weights of logistic regression model using gradient ascent.\n",
    "    Compute the derivative and update weights.\n",
    "    Inputs\n",
    "        - X: Input features\n",
    "        - Y: list of actual product sentiment classes \n",
    "        - W: weights/coefficients of logistic regression model\n",
    "        - b: bias or y-intercept of logistic regression classifier\n",
    "        - learning_rate: learning rate\n",
    "        - log_likelihood: log likelihood of weights\n",
    "    Output:\n",
    "        - W: predicted weights\n",
    "        - b: predicted bias\n",
    "        - log_likelihood: log likelihood\n",
    "    '''\n",
    "    # no_of_training_examples, no_of_features         \n",
    "    num_features, num_examples = X.shape\n",
    "    # Make a prediction\n",
    "    y_pred = 1 / (1 + np.exp(-(X.dot(W) + b))) \n",
    "    \n",
    "    dW = X.T.dot(Y-y_pred) / num_features \n",
    "    db = np.sum(Y-y_pred) / num_features \n",
    "\n",
    "    # update weights and bias\n",
    "    b = b + learning_rate * db\n",
    "    W = W + learning_rate * dW\n",
    "\n",
    "    # Compute log-likelihood\n",
    "    for i in range(len(W)):\n",
    "        #y_pred = 1 / (1 + np.exp(-(X[:,i].dot(W[i]) + b))) \n",
    "        #log_likelihood += compute_avg_log_likelihood(X[:,i], Y, W[i])\n",
    "        log_likelihood = compute_avg_log_likelihood(X[:,i], Y, W[i])\n",
    "\n",
    "    return W, b, log_likelihood"
   ]
  },
  {
   "cell_type": "code",
   "execution_count": 20,
   "metadata": {},
   "outputs": [],
   "source": [
    " def predict(X, W, b):\n",
    "    '''\n",
    "    Hypothetical function  h(x)\n",
    "    Input: \n",
    "        - X: Input features\n",
    "        - W: weights/coefficients of logistic regression model\n",
    "        - b: bias or y-intercept of logistic regression classifier\n",
    "    Output:\n",
    "        - Y: list of predicted classes \n",
    "    '''\n",
    "    Z = 1 / (1 + np.exp(- (X.dot(W) + b)))\n",
    "    Y = [-1 if z <= 0.5 else +1 for z in Z]\n",
    "    return Y "
   ]
  },
  {
   "cell_type": "code",
   "execution_count": 21,
   "metadata": {},
   "outputs": [],
   "source": [
    "def fit(X, Y, num_iterations, learning_rate):   \n",
    "    '''\n",
    "    Fit features to data using logistic regression \n",
    "    Input: \n",
    "        - X: Input features\n",
    "        - Y: list of actual product sentiment classes \n",
    "        - num_iterations: # of iterations to update weights using gradient ascent\n",
    "        - learning_rate: learning rate\n",
    "    Output:\n",
    "        - W: predicted weights\n",
    "        - b: predicted bias\n",
    "        - likelihood_history: history of log likelihood\n",
    "    '''\n",
    "    # no_of_training_examples, no_of_features         \n",
    "    num_features, num_examples = X.shape    \n",
    "    \n",
    "    # weight initialization         \n",
    "    W = np.zeros(num_examples)\n",
    "    b = 0\n",
    "    log_likelihood=0\n",
    "    likelihood_history=[]\n",
    "      \n",
    "    # gradient ascent learning \n",
    "    for i in range(num_iterations):          \n",
    "        W, b, log_likelihood = update_weights(X, Y, W, b, learning_rate, log_likelihood)   \n",
    "        likelihood_history.append(log_likelihood)\n",
    "    return W, b, likelihood_history"
   ]
  },
  {
   "cell_type": "code",
   "execution_count": 22,
   "metadata": {},
   "outputs": [],
   "source": [
    "X_train_sentiment = X_train.loc[:,X_train.columns.str.startswith('tfidf_word_count_')]\n",
    "X_test_sentiment = X_test.loc[:,X_test.columns.str.startswith('tfidf_word_count_')]\n",
    "\n",
    "X_train_sentiment.head()\n",
    "X_train_sentiment=X_train_sentiment.to_numpy()"
   ]
  },
  {
   "cell_type": "code",
   "execution_count": 23,
   "metadata": {},
   "outputs": [],
   "source": [
    "# Hyper-parameters\n",
    "learning_rate=0.0001\n",
    "num_iterations=500"
   ]
  },
  {
   "cell_type": "code",
   "execution_count": 24,
   "metadata": {},
   "outputs": [],
   "source": [
    "sentiment_model_weights, sentiment_model_bias, likelihood_history = fit(X_train_sentiment, np.ravel(y_train), num_iterations, learning_rate)"
   ]
  },
  {
   "cell_type": "markdown",
   "metadata": {},
   "source": [
    "Now that we have fitted the model, we can inspect the weights (coefficients) as follows:"
   ]
  },
  {
   "cell_type": "code",
   "execution_count": 25,
   "metadata": {},
   "outputs": [
    {
     "name": "stdout",
     "output_type": "stream",
     "text": [
      "[1.66092845e-06 1.66092845e-06 3.32185690e-06 ... 4.57756680e-05\n",
      " 0.00000000e+00 1.18417587e-05]\n",
      "0.01197060664529409\n"
     ]
    }
   ],
   "source": [
    "print(sentiment_model_weights)\n",
    "print(sentiment_model_bias)"
   ]
  },
  {
   "cell_type": "markdown",
   "metadata": {},
   "source": [
    "There are a total of `6750` coefficients in the model. Recall from the lecture that positive weights $w_j$ correspond to weights that cause positive sentiment, while negative weights correspond to negative sentiment. "
   ]
  },
  {
   "cell_type": "code",
   "execution_count": 26,
   "metadata": {},
   "outputs": [
    {
     "name": "stdout",
     "output_type": "stream",
     "text": [
      "Number of positive weights: 6082 \n",
      "Number of negative weights: 668 \n"
     ]
    }
   ],
   "source": [
    "num_positive_weights = np.sum(sentiment_model_weights >= 0)\n",
    "num_negative_weights = np.sum(sentiment_model_weights < 0)\n",
    "\n",
    "print(\"Number of positive weights: %s \" % num_positive_weights)\n",
    "print(\"Number of negative weights: %s \" % num_negative_weights)"
   ]
  },
  {
   "cell_type": "markdown",
   "metadata": {},
   "source": [
    "**Discussion Question:** How many weights are >= 0?"
   ]
  },
  {
   "cell_type": "markdown",
   "metadata": {},
   "source": [
    "Compare model to sklearn logistic regression "
   ]
  },
  {
   "cell_type": "code",
   "execution_count": 27,
   "metadata": {},
   "outputs": [
    {
     "data": {
      "text/html": [
       "<style>#sk-container-id-1 {color: black;}#sk-container-id-1 pre{padding: 0;}#sk-container-id-1 div.sk-toggleable {background-color: white;}#sk-container-id-1 label.sk-toggleable__label {cursor: pointer;display: block;width: 100%;margin-bottom: 0;padding: 0.3em;box-sizing: border-box;text-align: center;}#sk-container-id-1 label.sk-toggleable__label-arrow:before {content: \"▸\";float: left;margin-right: 0.25em;color: #696969;}#sk-container-id-1 label.sk-toggleable__label-arrow:hover:before {color: black;}#sk-container-id-1 div.sk-estimator:hover label.sk-toggleable__label-arrow:before {color: black;}#sk-container-id-1 div.sk-toggleable__content {max-height: 0;max-width: 0;overflow: hidden;text-align: left;background-color: #f0f8ff;}#sk-container-id-1 div.sk-toggleable__content pre {margin: 0.2em;color: black;border-radius: 0.25em;background-color: #f0f8ff;}#sk-container-id-1 input.sk-toggleable__control:checked~div.sk-toggleable__content {max-height: 200px;max-width: 100%;overflow: auto;}#sk-container-id-1 input.sk-toggleable__control:checked~label.sk-toggleable__label-arrow:before {content: \"▾\";}#sk-container-id-1 div.sk-estimator input.sk-toggleable__control:checked~label.sk-toggleable__label {background-color: #d4ebff;}#sk-container-id-1 div.sk-label input.sk-toggleable__control:checked~label.sk-toggleable__label {background-color: #d4ebff;}#sk-container-id-1 input.sk-hidden--visually {border: 0;clip: rect(1px 1px 1px 1px);clip: rect(1px, 1px, 1px, 1px);height: 1px;margin: -1px;overflow: hidden;padding: 0;position: absolute;width: 1px;}#sk-container-id-1 div.sk-estimator {font-family: monospace;background-color: #f0f8ff;border: 1px dotted black;border-radius: 0.25em;box-sizing: border-box;margin-bottom: 0.5em;}#sk-container-id-1 div.sk-estimator:hover {background-color: #d4ebff;}#sk-container-id-1 div.sk-parallel-item::after {content: \"\";width: 100%;border-bottom: 1px solid gray;flex-grow: 1;}#sk-container-id-1 div.sk-label:hover label.sk-toggleable__label {background-color: #d4ebff;}#sk-container-id-1 div.sk-serial::before {content: \"\";position: absolute;border-left: 1px solid gray;box-sizing: border-box;top: 0;bottom: 0;left: 50%;z-index: 0;}#sk-container-id-1 div.sk-serial {display: flex;flex-direction: column;align-items: center;background-color: white;padding-right: 0.2em;padding-left: 0.2em;position: relative;}#sk-container-id-1 div.sk-item {position: relative;z-index: 1;}#sk-container-id-1 div.sk-parallel {display: flex;align-items: stretch;justify-content: center;background-color: white;position: relative;}#sk-container-id-1 div.sk-item::before, #sk-container-id-1 div.sk-parallel-item::before {content: \"\";position: absolute;border-left: 1px solid gray;box-sizing: border-box;top: 0;bottom: 0;left: 50%;z-index: -1;}#sk-container-id-1 div.sk-parallel-item {display: flex;flex-direction: column;z-index: 1;position: relative;background-color: white;}#sk-container-id-1 div.sk-parallel-item:first-child::after {align-self: flex-end;width: 50%;}#sk-container-id-1 div.sk-parallel-item:last-child::after {align-self: flex-start;width: 50%;}#sk-container-id-1 div.sk-parallel-item:only-child::after {width: 0;}#sk-container-id-1 div.sk-dashed-wrapped {border: 1px dashed gray;margin: 0 0.4em 0.5em 0.4em;box-sizing: border-box;padding-bottom: 0.4em;background-color: white;}#sk-container-id-1 div.sk-label label {font-family: monospace;font-weight: bold;display: inline-block;line-height: 1.2em;}#sk-container-id-1 div.sk-label-container {text-align: center;}#sk-container-id-1 div.sk-container {/* jupyter's `normalize.less` sets `[hidden] { display: none; }` but bootstrap.min.css set `[hidden] { display: none !important; }` so we also need the `!important` here to be able to override the default hidden behavior on the sphinx rendered scikit-learn.org. See: https://github.com/scikit-learn/scikit-learn/issues/21755 */display: inline-block !important;position: relative;}#sk-container-id-1 div.sk-text-repr-fallback {display: none;}</style><div id=\"sk-container-id-1\" class=\"sk-top-container\"><div class=\"sk-text-repr-fallback\"><pre>LogisticRegression(max_iter=500, random_state=0, tol=0.001)</pre><b>In a Jupyter environment, please rerun this cell to show the HTML representation or trust the notebook. <br />On GitHub, the HTML representation is unable to render, please try loading this page with nbviewer.org.</b></div><div class=\"sk-container\" hidden><div class=\"sk-item\"><div class=\"sk-estimator sk-toggleable\"><input class=\"sk-toggleable__control sk-hidden--visually\" id=\"sk-estimator-id-1\" type=\"checkbox\" checked><label for=\"sk-estimator-id-1\" class=\"sk-toggleable__label sk-toggleable__label-arrow\">LogisticRegression</label><div class=\"sk-toggleable__content\"><pre>LogisticRegression(max_iter=500, random_state=0, tol=0.001)</pre></div></div></div></div></div>"
      ],
      "text/plain": [
       "LogisticRegression(max_iter=500, random_state=0, tol=0.001)"
      ]
     },
     "execution_count": 27,
     "metadata": {},
     "output_type": "execute_result"
    }
   ],
   "source": [
    "# Create model using sklearn\n",
    "from sklearn.linear_model import LogisticRegression\n",
    "sentiment_model = LogisticRegression(random_state=0, max_iter=num_iterations, tol=1e-3)\n",
    "sentiment_model.fit(X_train_sentiment, np.ravel(y_train))"
   ]
  },
  {
   "cell_type": "code",
   "execution_count": 28,
   "metadata": {},
   "outputs": [
    {
     "name": "stdout",
     "output_type": "stream",
     "text": [
      "Number of positive weights: 5757 \n",
      "Number of negative weights: 993 \n"
     ]
    }
   ],
   "source": [
    "num_positive_weights = np.sum(sentiment_model.coef_ >= 0)\n",
    "num_negative_weights = np.sum(sentiment_model.coef_ < 0)\n",
    "\n",
    "print(\"Number of positive weights: %s \" % num_positive_weights)\n",
    "print(\"Number of negative weights: %s \" % num_negative_weights)"
   ]
  },
  {
   "cell_type": "markdown",
   "metadata": {},
   "source": [
    "## Compute accuracy of the classifier\n",
    "\n",
    "We will now evaluate the accuracy of the trained classifier. Recall that the accuracy is given by\n",
    "\n",
    "$$\n",
    "accuracy = \\frac{\\textnormal{number of correctly classified examples}}{\\textnormal{number of total examples}}\n",
    "$$\n",
    "  \n",
    "This can be computed as follows:\n",
    "\n",
    "* **Step 1:** Use the trained model to compute class predictions (**Hint:** Use the `predict` method)\n",
    "* **Step 2:** Count the number of data points when the predicted class labels match the ground truth labels (called `true_labels` below).\n",
    "* **Step 3:** Divide the total number of correct predictions by the total number of data points in the dataset.\n",
    "\n",
    "Complete the function below to compute the classification accuracy:"
   ]
  },
  {
   "cell_type": "code",
   "execution_count": 29,
   "metadata": {},
   "outputs": [],
   "source": [
    "def get_classification_accuracy(prediction_labels, true_labels):    \n",
    "    # Compute the number of correctly classified examples\n",
    "    num_correct = np.sum(prediction_labels == true_labels)\n",
    "\n",
    "    # Then compute accuracy by dividing num_correct by total number of examples\n",
    "    accuracy = num_correct / len(true_labels)\n",
    "    return accuracy"
   ]
  },
  {
   "cell_type": "code",
   "execution_count": 30,
   "metadata": {},
   "outputs": [
    {
     "name": "stdout",
     "output_type": "stream",
     "text": [
      "0.9253731343283582\n"
     ]
    }
   ],
   "source": [
    "accuracy = get_classification_accuracy(predict(X_train_sentiment, sentiment_model_weights, sentiment_model_bias), \n",
    "                                       np.ravel(y_train))\n",
    "print(accuracy)"
   ]
  },
  {
   "cell_type": "code",
   "execution_count": 31,
   "metadata": {},
   "outputs": [
    {
     "name": "stdout",
     "output_type": "stream",
     "text": [
      "0.9335443037974683\n"
     ]
    }
   ],
   "source": [
    "accuracy = get_classification_accuracy(predict(X_test_sentiment, sentiment_model_weights, sentiment_model_bias), \n",
    "                                       np.ravel(y_test))\n",
    "print(accuracy)"
   ]
  },
  {
   "cell_type": "code",
   "execution_count": 32,
   "metadata": {},
   "outputs": [
    {
     "name": "stdout",
     "output_type": "stream",
     "text": [
      "0.9972862957937585\n"
     ]
    }
   ],
   "source": [
    "accuracy = get_classification_accuracy(sentiment_model.predict(X_train_sentiment), \n",
    "                                       np.ravel(y_train))\n",
    "print(accuracy)"
   ]
  },
  {
   "cell_type": "code",
   "execution_count": 33,
   "metadata": {},
   "outputs": [
    {
     "name": "stdout",
     "output_type": "stream",
     "text": [
      "0.9493670886075949\n"
     ]
    },
    {
     "name": "stderr",
     "output_type": "stream",
     "text": [
      "/Users/angeliquetaylor/opt/anaconda3/lib/python3.8/site-packages/sklearn/base.py:457: UserWarning: X has feature names, but LogisticRegression was fitted without feature names\n",
      "  warnings.warn(\n"
     ]
    }
   ],
   "source": [
    "accuracy = get_classification_accuracy(sentiment_model.predict(X_test_sentiment), \n",
    "                                       np.ravel(y_test))\n",
    "print(accuracy)"
   ]
  },
  {
   "cell_type": "markdown",
   "metadata": {},
   "source": [
    "# Plot Log Likelihood "
   ]
  },
  {
   "cell_type": "code",
   "execution_count": 34,
   "metadata": {},
   "outputs": [
    {
     "data": {
      "text/plain": [
       "500"
      ]
     },
     "execution_count": 34,
     "metadata": {},
     "output_type": "execute_result"
    }
   ],
   "source": [
    "len(likelihood_history)"
   ]
  },
  {
   "cell_type": "code",
   "execution_count": 35,
   "metadata": {},
   "outputs": [
    {
     "data": {
      "image/png": "[encoded data removed]",
      "text/plain": [
       "<Figure size 640x480 with 1 Axes>"
      ]
     },
     "metadata": {},
     "output_type": "display_data"
    }
   ],
   "source": [
    "import matplotlib.pyplot as plt\n",
    "\n",
    "plt.scatter(np.arange(0,len(likelihood_history),1), likelihood_history, color = 'blue') \n",
    "plt.title('Log Likelihood vs Training Iteration') \n",
    "plt.xlabel('Training Iterations') \n",
    "plt.ylabel('Log Likelihood') \n",
    "plt.show() "
   ]
  },
  {
   "cell_type": "markdown",
   "metadata": {},
   "source": [
    "# Effect of learning rate"
   ]
  },
  {
   "cell_type": "code",
   "execution_count": 36,
   "metadata": {},
   "outputs": [],
   "source": [
    "import matplotlib.pyplot as plt\n",
    "import matplotlib.colors as mcolors\n",
    "\n",
    "def plot_series(data, x_title, y_title, para1, para2, legend_label='iteration '):\n",
    "    colors = mcolors.TABLEAU_COLORS\n",
    "\n",
    "    # Sort colors by hue, saturation, value and name.\n",
    "    names = sorted(\n",
    "        colors, key=lambda c: tuple(mcolors.rgb_to_hsv(mcolors.to_rgb(c))))\n",
    "    # Plot cost of training iterations\n",
    "    j=0    \n",
    "    for i in range(para1,len(data),para2):\n",
    "        plt.plot(np.arange(0,len(data[i]),1), data[i], color = names[j], label=legend_label+str(i))\n",
    "        if(j>=len(names)-1):\n",
    "            j=0\n",
    "        else:\n",
    "            j+=1\n",
    "    plt.title(y_title+' vs '+x_title+' Iteration') \n",
    "    plt.xlabel(x_title) \n",
    "    plt.ylabel(y_title) \n",
    "    plt.legend()\n",
    "    plt.show() "
   ]
  },
  {
   "cell_type": "code",
   "execution_count": 37,
   "metadata": {},
   "outputs": [],
   "source": [
    "# Hyper-parameters\n",
    "learning_rate=0.00001\n",
    "num_iterations=100"
   ]
  },
  {
   "cell_type": "code",
   "execution_count": 38,
   "metadata": {},
   "outputs": [],
   "source": [
    "weights_list=[]\n",
    "likelihood_history = []\n",
    "for lr in range(1,50,1):\n",
    "    learning_rate=lr/100000\n",
    "    weights, bias, log_lik = fit(X_train_sentiment, np.ravel(y_train), num_iterations, learning_rate)\n",
    "    likelihood_history.append(log_lik)"
   ]
  },
  {
   "cell_type": "code",
   "execution_count": 39,
   "metadata": {},
   "outputs": [
    {
     "data": {
      "text/plain": [
       "100"
      ]
     },
     "execution_count": 39,
     "metadata": {},
     "output_type": "execute_result"
    }
   ],
   "source": [
    "len(likelihood_history[0])"
   ]
  },
  {
   "cell_type": "code",
   "execution_count": 40,
   "metadata": {},
   "outputs": [
    {
     "data": {
      "image/png": "[encoded data removed]",
      "text/plain": [
       "<Figure size 640x480 with 1 Axes>"
      ]
     },
     "metadata": {},
     "output_type": "display_data"
    }
   ],
   "source": [
    "plot_series(likelihood_history, 'Training Iteration', 'Log Likelihood', 0, 10, legend_label='lr ')"
   ]
  },
  {
   "cell_type": "markdown",
   "metadata": {},
   "source": [
    "# Find the most positive (and negative) review"
   ]
  },
  {
   "cell_type": "markdown",
   "metadata": {},
   "source": [
    "We now turn to examining the full test dataset, **test_data**, and use Numpy argsort to form predictions on all of the test data points for faster performance.\n",
    "\n",
    "Using the `sentiment_model`, find the 20 reviews in the entire **test_data** with the **highest probability** of being classified as a **positive review**. We refer to these as the \"most positive reviews.\"\n",
    "\n",
    "To calculate these top-20 reviews, use the following steps:\n",
    "1.  Make probability predictions on **test_data** using the `sentiment_model`. (**Hint:** When you call `.predict` to make predictions on the test data.)\n",
    "2.  Sort the data according to those predictions and pick the top 20. (**Hint:** You can use indexing [-topn:] to find the top k rows sorted according to the value of a specified column.)"
   ]
  },
  {
   "cell_type": "code",
   "execution_count": 41,
   "metadata": {},
   "outputs": [
    {
     "name": "stdout",
     "output_type": "stream",
     "text": [
      "[231 107 268  17 254 260  60  57 225 228  68 108  66 172 128 138 286  54\n",
      " 207  16]\n",
      "                                               reviews  rating  \\\n",
      "581  I havent figured it out yet So far it seems ok...     4.0   \n",
      "664  The Tap works great just like Alexas little he...     5.0   \n",
      "779  This is such a great product I have two of the...     5.0   \n",
      "577  you can ask alexa almost anything kids love it...     4.0   \n",
      "482  I bought this as a gift for my father He absol...     5.0   \n",
      "605  My son requested this a a birthday gift He is ...     5.0   \n",
      "614  This Alexa is a super form of info with little...     5.0   \n",
      "207                       got as a gift and we love it     5.0   \n",
      "623  WAS SURPRISED HOW GREAT THIS WORKS  MUSIC ASK ...     5.0   \n",
      "553  I love this speaker it works wonderfully Very ...     5.0   \n",
      "341    Great sturdy case perfect for my three year old     5.0   \n",
      "274                     Great purchase nephew loved it     5.0   \n",
      "950  excellent gift ok sound great portability woul...     4.0   \n",
      "487  Good product works amazing  Works awesome from...     5.0   \n",
      "181                                          Read more     5.0   \n",
      "215                           First rate  high quality     5.0   \n",
      "340                                            Perfect     5.0   \n",
      "985                                          Excellent     5.0   \n",
      "8    Vraiment bon petit appareil  lger et facile d ...     4.0   \n",
      "133                                          Excelente     5.0   \n",
      "\n",
      "                                                 title  word_count_0  \\\n",
      "581                                             Unsure             0   \n",
      "664                             Alexa's little helper.             0   \n",
      "779                                              Great             0   \n",
      "577                            great product for price             0   \n",
      "482                          The best Fathers Day gift             0   \n",
      "605                                        Fun product             0   \n",
      "614                               great source of info             0   \n",
      "207                                          I love it             0   \n",
      "623                                            AWESOME             0   \n",
      "553                                              Great             0   \n",
      "341                        Perfect for the little ones             0   \n",
      "274                                         Five Stars             0   \n",
      "950                                  great portability             0   \n",
      "487                                               Good             0   \n",
      "181  This box is a GAME CHANGER for on demand conte...             0   \n",
      "215                        First rate - high quality!!             0   \n",
      "340                                         Five Stars             0   \n",
      "985                                         Five Stars             0   \n",
      "8                                           Un plaisir             0   \n",
      "133                                         Five Stars             0   \n",
      "\n",
      "     word_count_1  word_count_2  word_count_3  word_count_4  word_count_5  \\\n",
      "581             0             0             0             0             0   \n",
      "664             0             0             0             0             0   \n",
      "779             0             0             0             0             0   \n",
      "577             0             0             0             0             0   \n",
      "482             0             0             0             0             0   \n",
      "605             0             0             0             0             0   \n",
      "614             0             0             0             0             0   \n",
      "207             0             0             0             0             0   \n",
      "623             0             0             0             0             0   \n",
      "553             0             0             0             0             0   \n",
      "341             0             0             0             0             0   \n",
      "274             0             0             0             0             0   \n",
      "950             0             0             0             0             0   \n",
      "487             0             0             0             0             0   \n",
      "181             0             0             0             0             0   \n",
      "215             0             0             0             0             0   \n",
      "340             0             0             0             0             0   \n",
      "985             0             0             0             0             0   \n",
      "8               0             0             0             0             0   \n",
      "133             0             0             0             0             0   \n",
      "\n",
      "     word_count_6  ...  tfidf_word_count_word_count_6740  \\\n",
      "581             0  ...                                 0   \n",
      "664             0  ...                                 0   \n",
      "779             0  ...                                 0   \n",
      "577             0  ...                                 0   \n",
      "482             0  ...                                 0   \n",
      "605             0  ...                                 0   \n",
      "614             0  ...                                 0   \n",
      "207             0  ...                                 0   \n",
      "623             0  ...                                 0   \n",
      "553             0  ...                                 0   \n",
      "341             0  ...                                 0   \n",
      "274             0  ...                                 0   \n",
      "950             0  ...                                 0   \n",
      "487             0  ...                                 0   \n",
      "181             0  ...                                 0   \n",
      "215             0  ...                                 0   \n",
      "340             0  ...                                 0   \n",
      "985             0  ...                                 0   \n",
      "8               0  ...                                 0   \n",
      "133             0  ...                                 0   \n",
      "\n",
      "     tfidf_word_count_word_count_6741  tfidf_word_count_word_count_6742  \\\n",
      "581                                 0                                 0   \n",
      "664                                 0                                 0   \n",
      "779                                 0                                 0   \n",
      "577                                 0                                 0   \n",
      "482                                 0                                 0   \n",
      "605                                 0                                 0   \n",
      "614                                 0                                 0   \n",
      "207                                 0                                 0   \n",
      "623                                 0                                 0   \n",
      "553                                 0                                 0   \n",
      "341                                 0                                 0   \n",
      "274                                 0                                 0   \n",
      "950                                 0                                 0   \n",
      "487                                 0                                 0   \n",
      "181                                 0                                 0   \n",
      "215                                 0                                 0   \n",
      "340                                 0                                 0   \n",
      "985                                 0                                 0   \n",
      "8                                   0                                 0   \n",
      "133                                 0                                 0   \n",
      "\n",
      "     tfidf_word_count_word_count_6743  tfidf_word_count_word_count_6744  \\\n",
      "581                                 0                                 0   \n",
      "664                                 0                                 0   \n",
      "779                                 0                                 0   \n",
      "577                                 0                                 0   \n",
      "482                                 0                                 0   \n",
      "605                                 0                                 0   \n",
      "614                                 0                                 0   \n",
      "207                                 0                                 0   \n",
      "623                                 0                                 0   \n",
      "553                                 0                                 0   \n",
      "341                                 0                                 0   \n",
      "274                                 0                                 0   \n",
      "950                                 0                                 0   \n",
      "487                                 0                                 0   \n",
      "181                                 0                                 0   \n",
      "215                                 0                                 0   \n",
      "340                                 0                                 0   \n",
      "985                                 0                                 0   \n",
      "8                                   0                                 0   \n",
      "133                                 0                                 0   \n",
      "\n",
      "     tfidf_word_count_word_count_6745  tfidf_word_count_word_count_6746  \\\n",
      "581                                 0                                 0   \n",
      "664                                 0                                 0   \n",
      "779                                 0                                 0   \n",
      "577                                 0                                 0   \n",
      "482                                 0                                 0   \n",
      "605                                 0                                 0   \n",
      "614                                 0                                 0   \n",
      "207                                 0                                 0   \n",
      "623                                 0                                 0   \n",
      "553                                 0                                 0   \n",
      "341                                 0                                 0   \n",
      "274                                 0                                 0   \n",
      "950                                 0                                 0   \n",
      "487                                 0                                 0   \n",
      "181                                 0                                 0   \n",
      "215                                 0                                 0   \n",
      "340                                 0                                 0   \n",
      "985                                 0                                 0   \n",
      "8                                   0                                 0   \n",
      "133                                 0                                 0   \n",
      "\n",
      "     tfidf_word_count_word_count_6747  tfidf_word_count_word_count_6748  \\\n",
      "581                                 0                                 0   \n",
      "664                                 0                                 0   \n",
      "779                                 0                                 0   \n",
      "577                                 0                                 0   \n",
      "482                                 0                                 0   \n",
      "605                                 0                                 0   \n",
      "614                                 0                                 0   \n",
      "207                                 0                                 0   \n",
      "623                                 0                                 0   \n",
      "553                                 0                                 0   \n",
      "341                                 0                                 0   \n",
      "274                                 0                                 0   \n",
      "950                                 0                                 0   \n",
      "487                                 0                                 0   \n",
      "181                                 0                                 0   \n",
      "215                                 0                                 0   \n",
      "340                                 0                                 0   \n",
      "985                                 0                                 0   \n",
      "8                                   0                                 0   \n",
      "133                                 0                                 0   \n",
      "\n",
      "     tfidf_word_count_word_count_6749  \n",
      "581                                 0  \n",
      "664                                 0  \n",
      "779                                 0  \n",
      "577                                 0  \n",
      "482                                 0  \n",
      "605                                 0  \n",
      "614                                 0  \n",
      "207                                 0  \n",
      "623                                 0  \n",
      "553                                 0  \n",
      "341                                 0  \n",
      "274                                 0  \n",
      "950                                 0  \n",
      "487                                 0  \n",
      "181                                 0  \n",
      "215                                 0  \n",
      "340                                 0  \n",
      "985                                 0  \n",
      "8                                   0  \n",
      "133                                 0  \n",
      "\n",
      "[20 rows x 13503 columns]\n"
     ]
    }
   ],
   "source": [
    "# Calculate the class probabilities for the test set\n",
    "y_prob = predict_probability(X_test_sentiment.to_numpy(), sentiment_model_weights, b=sentiment_model_bias)\n",
    "\n",
    "# Sort the test set in descending order of their probabilities of being positive\n",
    "idx = np.argsort(-y_prob)\n",
    "\n",
    "# Get the indices of the 20 most positive reviews\n",
    "idx_most_positive = idx[-20:] \n",
    "print(idx_most_positive)\n",
    "\n",
    "# Get the corresponding reviews from the test set\n",
    "most_positive_reviews = X_test.iloc[idx_most_positive]\n",
    "print(most_positive_reviews)"
   ]
  },
  {
   "cell_type": "markdown",
   "metadata": {},
   "source": [
    "**Discussion Question**: Which of the following products are represented in the 20 most positive reviews?\n",
    "\n",
    "\n",
    "Now, let us repeat this exercise to find the \"most negative reviews.\" Use the prediction probabilities to find the  20 reviews in the **test_data** with the **lowest probability** of being classified as a **positive review**. Repeat the same steps above but make sure you **sort in the opposite order**."
   ]
  },
  {
   "cell_type": "code",
   "execution_count": 42,
   "metadata": {
    "scrolled": true
   },
   "outputs": [
    {
     "name": "stdout",
     "output_type": "stream",
     "text": [
      "                                               reviews  rating  \\\n",
      "194  I am not a casual user of ondemand content and...     5.0   \n",
      "6    This is a review of the Kindle Paperwhite laun...     5.0   \n",
      "205  After having the FireTV for about a month now ...     5.0   \n",
      "189  Having received my Fire TV today Ive been tryi...     4.0   \n",
      "41   Ok first things first I also own a Echo and if...     5.0   \n",
      "99   Ok first things first I also own a Echo and if...     5.0   \n",
      "90   Ok first things first I also own a Echo and if...     5.0   \n",
      "195  I was really looking forward to using what was...     1.0   \n",
      "60   Sling is simply awesome and so is the Amazon T...     5.0   \n",
      "121  This was really worth the wait I bought the Ec...     4.0   \n",
      "59   I am updating my review from two months ago My...     4.0   \n",
      "91   I am updating my review from two months ago My...     4.0   \n",
      "411  LOVE OUR NEW ECHO I have been watching the rev...     5.0   \n",
      "414  LOVE OUR NEW ECHO I have been watching the rev...     5.0   \n",
      "429  To sum up what I will tell you about in the de...     4.0   \n",
      "386  I have loved and used my Kindle Keyboard for y...     5.0   \n",
      "979  Edit 61517 After three months of use I still d...     2.0   \n",
      "148  The new Fire HDX 89 is definitely one powerful...     5.0   \n",
      "78   Im writing this review with the benefit of bei...     5.0   \n",
      "306  For the low price this tablet really does more...     5.0   \n",
      "\n",
      "                                                 title  word_count_0  \\\n",
      "194  This box is a GAME CHANGER for on demand conte...             0   \n",
      "6    Superb reading device - but which one's best f...             0   \n",
      "205  Best TV Streaming Box for Everyone - From Gran...             0   \n",
      "189  Works great with one critical flaw. (significa...             0   \n",
      "41   I also own a Echo and if you own a Echo you wi...             0   \n",
      "99   I also own a Echo and if you own a Echo you wi...             0   \n",
      "90   I also own a Echo and if you own a Echo you wi...             0   \n",
      "195  No Way to Search or Browse Prime Movies Only FAIL             0   \n",
      "60   Provides Excellent protection for my new tap t...             0   \n",
      "121  The best Echo yet, especially if you have elde...             0   \n",
      "59                  Updated review (after 2 months)...             0   \n",
      "91                  Updated review (after 2 months)...             0   \n",
      "411  Uber Awesome, In Fact you can even order an Ub...             0   \n",
      "414  Uber Awesome, In Fact you can even order an Ub...             0   \n",
      "429  Nice Tablet with Sharp Display 4,262 people fo...             0   \n",
      "386  A new step forward for me in reading on my Kin...             0   \n",
      "979              Love my Oasis. This cover, though Eh.             0   \n",
      "148  EXCELLENT tablet at a reasonable price. The Fi...             0   \n",
      "78                              Great Value for 139 2,             0   \n",
      "306  HD Fire 6 is great for the price! 3,566 people...             0   \n",
      "\n",
      "     word_count_1  word_count_2  word_count_3  word_count_4  word_count_5  \\\n",
      "194             0             0             0             0             0   \n",
      "6               0             0             0             0             0   \n",
      "205             0             0             0             0             0   \n",
      "189             0             0             0             0             0   \n",
      "41              0             0             0             0             0   \n",
      "99              0             0             0             0             0   \n",
      "90              0             0             0             0             0   \n",
      "195             0             0             0             0             0   \n",
      "60              0             0             0             0             0   \n",
      "121             0             0             0             0             0   \n",
      "59              0             0             0             0             0   \n",
      "91              0             0             0             0             0   \n",
      "411             0             0             0             0             0   \n",
      "414             0             0             0             0             0   \n",
      "429             0             0             0             0             0   \n",
      "386             0             0             0             0             0   \n",
      "979             0             0             0             0             0   \n",
      "148             0             0             0             0             0   \n",
      "78              0             0             0             0             0   \n",
      "306             0             0             0             0             0   \n",
      "\n",
      "     word_count_6  ...  tfidf_word_count_word_count_6740  \\\n",
      "194             0  ...                                 0   \n",
      "6               0  ...                                 0   \n",
      "205             0  ...                                 0   \n",
      "189             0  ...                                 0   \n",
      "41              0  ...                                 0   \n",
      "99              0  ...                                 0   \n",
      "90              0  ...                                 0   \n",
      "195             0  ...                                 0   \n",
      "60              0  ...                                 0   \n",
      "121             0  ...                                 0   \n",
      "59              0  ...                                 0   \n",
      "91              0  ...                                 0   \n",
      "411             0  ...                                 0   \n",
      "414             0  ...                                 0   \n",
      "429             0  ...                                 0   \n",
      "386             0  ...                                 0   \n",
      "979             0  ...                                 0   \n",
      "148             0  ...                                 0   \n",
      "78              0  ...                                 0   \n",
      "306             0  ...                                 0   \n",
      "\n",
      "     tfidf_word_count_word_count_6741  tfidf_word_count_word_count_6742  \\\n",
      "194                                 1                                 0   \n",
      "6                                   0                                 0   \n",
      "205                                 0                                 0   \n",
      "189                                 0                                 0   \n",
      "41                                  0                                 0   \n",
      "99                                  0                                 0   \n",
      "90                                  0                                 0   \n",
      "195                                 0                                 0   \n",
      "60                                  0                                 0   \n",
      "121                                 0                                 0   \n",
      "59                                  0                                 0   \n",
      "91                                  0                                 0   \n",
      "411                                 0                                 0   \n",
      "414                                 0                                 0   \n",
      "429                                 0                                 0   \n",
      "386                                 0                                 0   \n",
      "979                                 0                                 0   \n",
      "148                                 0                                 0   \n",
      "78                                  0                                 0   \n",
      "306                                 0                                 0   \n",
      "\n",
      "     tfidf_word_count_word_count_6743  tfidf_word_count_word_count_6744  \\\n",
      "194                                 0                                 0   \n",
      "6                                   2                                 0   \n",
      "205                                 0                                 0   \n",
      "189                                 0                                 0   \n",
      "41                                  0                                 0   \n",
      "99                                  0                                 0   \n",
      "90                                  0                                 0   \n",
      "195                                 0                                 0   \n",
      "60                                  0                                 0   \n",
      "121                                 0                                 0   \n",
      "59                                  0                                 0   \n",
      "91                                  0                                 0   \n",
      "411                                 0                                 0   \n",
      "414                                 0                                 0   \n",
      "429                                 0                                 0   \n",
      "386                                 0                                 0   \n",
      "979                                 0                                 0   \n",
      "148                                 0                                 0   \n",
      "78                                  0                                 0   \n",
      "306                                 0                                 0   \n",
      "\n",
      "     tfidf_word_count_word_count_6745  tfidf_word_count_word_count_6746  \\\n",
      "194                                 0                                 0   \n",
      "6                                   0                                 0   \n",
      "205                                 0                                 0   \n",
      "189                                 0                                 0   \n",
      "41                                  0                                 0   \n",
      "99                                  0                                 0   \n",
      "90                                  0                                 0   \n",
      "195                                 0                                 0   \n",
      "60                                  0                                 0   \n",
      "121                                 0                                 0   \n",
      "59                                  0                                 0   \n",
      "91                                  0                                 0   \n",
      "411                                 0                                 0   \n",
      "414                                 0                                 0   \n",
      "429                                 0                                 0   \n",
      "386                                 0                                 0   \n",
      "979                                 0                                 0   \n",
      "148                                 0                                 0   \n",
      "78                                  0                                 0   \n",
      "306                                 0                                 0   \n",
      "\n",
      "     tfidf_word_count_word_count_6747  tfidf_word_count_word_count_6748  \\\n",
      "194                                 0                                 0   \n",
      "6                                   0                                 0   \n",
      "205                                 0                                 0   \n",
      "189                                 0                                 0   \n",
      "41                                  0                                 0   \n",
      "99                                  0                                 0   \n",
      "90                                  0                                 0   \n",
      "195                                 0                                 0   \n",
      "60                                  0                                 0   \n",
      "121                                 0                                 0   \n",
      "59                                  0                                 0   \n",
      "91                                  0                                 0   \n",
      "411                                 0                                 0   \n",
      "414                                 0                                 0   \n",
      "429                                 0                                 0   \n",
      "386                                 0                                 0   \n",
      "979                                 0                                 0   \n",
      "148                                 0                                 0   \n",
      "78                                  0                                 0   \n",
      "306                                 0                                 0   \n",
      "\n",
      "     tfidf_word_count_word_count_6749  \n",
      "194                                 0  \n",
      "6                                   0  \n",
      "205                                 0  \n",
      "189                                 0  \n",
      "41                                  0  \n",
      "99                                  0  \n",
      "90                                  0  \n",
      "195                                 0  \n",
      "60                                  0  \n",
      "121                                 0  \n",
      "59                                  0  \n",
      "91                                  0  \n",
      "411                                 0  \n",
      "414                                 0  \n",
      "429                                 0  \n",
      "386                                 0  \n",
      "979                                 0  \n",
      "148                                 0  \n",
      "78                                  0  \n",
      "306                                 0  \n",
      "\n",
      "[20 rows x 13503 columns]\n"
     ]
    }
   ],
   "source": [
    "# Get the indices of the 20 most negative reviews\n",
    "idx_most_negative = idx[:20]\n",
    "\n",
    "# Get the corresponding reviews from the test set\n",
    "most_negative_reviews = X_test.iloc[idx_most_negative]\n",
    "print(most_negative_reviews)"
   ]
  },
  {
   "cell_type": "markdown",
   "metadata": {
    "collapsed": true,
    "jupyter": {
     "outputs_hidden": true
    }
   },
   "source": [
    "**Question**: Which of the following products are represented in the 20 most negative reviews?"
   ]
  },
  {
   "cell_type": "markdown",
   "metadata": {},
   "source": [
    "Now, let's compute the classification accuracy of the **sentiment_model** on the **test_data**."
   ]
  },
  {
   "cell_type": "code",
   "execution_count": 43,
   "metadata": {},
   "outputs": [
    {
     "name": "stdout",
     "output_type": "stream",
     "text": [
      "0.9335443037974683\n"
     ]
    }
   ],
   "source": [
    "accuracy = get_classification_accuracy(predict(X_test_sentiment, sentiment_model_weights, sentiment_model_bias), \n",
    "                                       np.ravel(y_test))\n",
    "print(accuracy)"
   ]
  },
  {
   "cell_type": "markdown",
   "metadata": {},
   "source": [
    "**Discussion Question**: What is the accuracy of the **sentiment_model** on the **test_data**? Round your answer to 2 decimal places (e.g. 0.76).\n",
    "\n",
    "**Discussion Question**: Does a higher accuracy value on the **training_data** always imply that the classifier is better?"
   ]
  },
  {
   "cell_type": "markdown",
   "metadata": {},
   "source": [
    "## Baseline: Majority class prediction\n",
    "\n",
    "It is quite common to use the **majority class classifier** as the a baseline (or reference) model for comparison with your classifier model. The majority classifier model predicts the majority class for all data points. At the very least, you should healthily beat the majority class classifier, otherwise, the model is (usually) pointless.\n",
    "\n",
    "What is the majority class in the **train_data**?"
   ]
  },
  {
   "cell_type": "code",
   "execution_count": 44,
   "metadata": {},
   "outputs": [
    {
     "name": "stdout",
     "output_type": "stream",
     "text": [
      "682\n",
      "55\n"
     ]
    }
   ],
   "source": [
    "num_positive = int(np.sum(y_train == +1))\n",
    "num_negative = int(np.sum(y_train == -1))\n",
    "print(num_positive)\n",
    "print(num_negative)"
   ]
  },
  {
   "cell_type": "markdown",
   "metadata": {},
   "source": [
    "Now compute the accuracy of the majority class classifier on **test_data**.\n",
    "\n",
    "**Discussion Question**: Enter the accuracy of the majority class classifier model on the **test_data**. Round your answer to two decimal places (e.g. 0.76)."
   ]
  },
  {
   "cell_type": "code",
   "execution_count": 45,
   "metadata": {
    "scrolled": true
   },
   "outputs": [
    {
     "name": "stdout",
     "output_type": "stream",
     "text": [
      "sentiment    0.933544\n",
      "dtype: float64\n"
     ]
    }
   ],
   "source": [
    "if num_positive >= num_negative:\n",
    "    y_pred = 1\n",
    "else:\n",
    "    y_pred = -1\n",
    "\n",
    "n_correct = np.sum(y_test == y_pred)\n",
    "accuracy = n_correct / len(X_test)\n",
    "print(accuracy)"
   ]
  },
  {
   "cell_type": "markdown",
   "metadata": {},
   "source": [
    "**Discussion Question**: Is the **sentiment_model** better than the majority class classifier (the baseline)?"
   ]
  },
  {
   "cell_type": "markdown",
   "metadata": {},
   "source": [
    "## Confusion Matrix\n",
    "\n",
    "The accuracy, while convenient, does not tell the whole story. For a fuller picture, we turn to the **confusion matrix**. In the case of binary classification, the confusion matrix is a 2-by-2 matrix laying out correct and incorrect predictions made in each label as follows:\n",
    "```\n",
    "              +---------------------------------------------+\n",
    "              |                Predicted label              |\n",
    "              +----------------------+----------------------+\n",
    "              |          (-1)        |         (+1)         |\n",
    "+-------+-----+----------------------+----------------------+\n",
    "| True  |(-1) | # of true negative  | # of false positive |\n",
    "| label +-----+----------------------+----------------------+\n",
    "|       |(+1) | # of false negative | # of true positive  |\n",
    "+-------+-----+----------------------+----------------------+\n",
    "```\n",
    "To print out the confusion matrix for a classifier, use `metric='confusion_matrix'`:"
   ]
  },
  {
   "cell_type": "code",
   "execution_count": 46,
   "metadata": {},
   "outputs": [
    {
     "name": "stderr",
     "output_type": "stream",
     "text": [
      "/Users/angeliquetaylor/opt/anaconda3/lib/python3.8/site-packages/sklearn/base.py:457: UserWarning: X has feature names, but LogisticRegression was fitted without feature names\n",
      "  warnings.warn(\n"
     ]
    },
    {
     "data": {
      "text/plain": [
       "array([[  6,  15],\n",
       "       [  1, 294]])"
      ]
     },
     "execution_count": 46,
     "metadata": {},
     "output_type": "execute_result"
    }
   ],
   "source": [
    "from sklearn.metrics import confusion_matrix\n",
    "\n",
    "sentiment_predictions = sentiment_model.predict(X_test_sentiment.loc[:, X_test_sentiment.columns.str.startswith('tfidf_word_count_')])\n",
    "cmatrix = confusion_matrix(y_test, sentiment_predictions)\n",
    "cmatrix"
   ]
  },
  {
   "cell_type": "markdown",
   "metadata": {},
   "source": [
    "**Discussion Question**: How many predicted values in the **test set** are **false positives**?"
   ]
  },
  {
   "cell_type": "code",
   "execution_count": 47,
   "metadata": {},
   "outputs": [
    {
     "name": "stdout",
     "output_type": "stream",
     "text": [
      "There are 15 false positives\n",
      "There are 1 false negatives\n",
      "There are 294 true positives\n",
      "There are 6 true negatives\n"
     ]
    }
   ],
   "source": [
    "true_neg, false_pos, false_neg, true_pos = cmatrix.ravel()\n",
    "print('There are {} false positives'.format(false_pos))\n",
    "print('There are {} false negatives'.format(false_neg))\n",
    "print('There are {} true positives'.format(true_pos))\n",
    "print('There are {} true negatives'.format(true_neg))"
   ]
  },
  {
   "cell_type": "markdown",
   "metadata": {},
   "source": [
    "## Precision and Recall\n",
    "\n",
    "You may not have exact dollar amounts for each kind of mistake. Instead, you may simply prefer to reduce the percentage of false positives to be less than, say, 3.5% of all positive predictions. This is where **precision** comes in:\n",
    "\n",
    "$$\n",
    "Precision = \\frac{TP}{TP + FP}\n",
    "$$\n",
    "\n",
    "where\n",
    "\n",
    "* TP - true positives\n",
    "* FP - false positives"
   ]
  },
  {
   "cell_type": "markdown",
   "metadata": {},
   "source": [
    "So to keep the percentage of false positives below 3.5% of positive predictions, we must raise the precision to 96.5% or higher. \n",
    "\n",
    "**First**, let us compute the precision of the logistic regression classifier on the **test_data**."
   ]
  },
  {
   "cell_type": "code",
   "execution_count": 48,
   "metadata": {},
   "outputs": [
    {
     "name": "stdout",
     "output_type": "stream",
     "text": [
      "Precision on test data: 0.9514563106796117\n"
     ]
    }
   ],
   "source": [
    "precision = true_pos/(true_pos+false_pos)\n",
    "print(\"Precision on test data: %s\" % precision)"
   ]
  },
  {
   "cell_type": "markdown",
   "metadata": {},
   "source": [
    "**Discussion Question**: Out of all reviews in the **test set** that are predicted to be positive, what fraction of them are **false positives**? (Round to the second decimal place e.g. 0.25)"
   ]
  },
  {
   "cell_type": "code",
   "execution_count": 49,
   "metadata": {},
   "outputs": [
    {
     "data": {
      "text/plain": [
       "0.04854368932038835"
      ]
     },
     "execution_count": 49,
     "metadata": {},
     "output_type": "execute_result"
    }
   ],
   "source": [
    "false_pos / (true_pos + false_pos)"
   ]
  },
  {
   "cell_type": "markdown",
   "metadata": {},
   "source": [
    "**Discussion Question:** Based on what we learned in lecture, if we wanted to reduce this fraction of false positives to be below 3.5%, we would (select one):\n",
    "\n",
    "- Discard a sufficient number of positive predictions\n",
    "- Discard a sufficient number of negative predictins\n",
    "- Increase threshold for predicting the positive class ($y_{hat} = +1$)\n",
    "- Decrease threshold for predicting the positive class ($y_{hat} = +1$)"
   ]
  },
  {
   "cell_type": "markdown",
   "metadata": {},
   "source": [
    "A complementary metric is **recall**, which measures the ratio between the number of true positives and that of (ground-truth) positive reviews:\n",
    "\n",
    "$$\n",
    "recall = \\frac{TP}{TP + FN}\n",
    "$$\n",
    "\n",
    "where\n",
    "\n",
    "* TP - true positives\n",
    "* FP - false negatives\n",
    "* \n",
    "Let us compute the recall on the **test_data**."
   ]
  },
  {
   "cell_type": "code",
   "execution_count": 50,
   "metadata": {},
   "outputs": [
    {
     "name": "stdout",
     "output_type": "stream",
     "text": [
      "Recall on test data: 0.9966101694915255\n"
     ]
    }
   ],
   "source": [
    "recall = true_pos / (true_pos + false_neg)\n",
    "print(\"Recall on test data: %s\" % recall)"
   ]
  },
  {
   "cell_type": "markdown",
   "metadata": {},
   "source": [
    "**Discussion Question**: What fraction of the positive reviews in the **test_set** were correctly predicted as positive by the classifier?\n",
    "\n",
    "**Discussion Question**: What is the recall value for a classifier that predicts **+1** for all data points in the **test_data**?"
   ]
  },
  {
   "cell_type": "code",
   "execution_count": 51,
   "metadata": {},
   "outputs": [
    {
     "data": {
      "text/plain": [
       "0.9966101694915255"
      ]
     },
     "execution_count": 51,
     "metadata": {},
     "output_type": "execute_result"
    }
   ],
   "source": [
    "true_pos / (true_pos + false_neg)"
   ]
  },
  {
   "cell_type": "markdown",
   "metadata": {},
   "source": [
    "# Precision-recall tradeoff\n",
    "\n",
    "In this part, we will explore the trade-off between precision and recall discussed in the lecture.  We first examine what happens when we use a different threshold value for making class predictions.  We then explore a range of threshold values and plot the associated precision-recall curve.  \n"
   ]
  },
  {
   "cell_type": "markdown",
   "metadata": {},
   "source": [
    "## Varying the threshold\n",
    "\n",
    "False positives are costly in our example, so we may want to be more conservative about making positive predictions. To achieve this, instead of thresholding class probabilities at 0.5, we can choose a higher threshold. \n",
    "\n",
    "Write a function called `apply_threshold` that accepts two things\n",
    "* `probabilities` (probability values of positive sentiment)\n",
    "* `threshold` (a float between 0 and 1).\n",
    "\n",
    "The function should return an SArray, where each element is set to +1 or -1 depending whether the corresponding probability exceeds `threshold`."
   ]
  },
  {
   "cell_type": "code",
   "execution_count": 52,
   "metadata": {},
   "outputs": [],
   "source": [
    "def apply_threshold(probabilities, threshold):\n",
    "    # +1 if >= threshold and -1 otherwise.\n",
    "    return np.array([1 if p >= threshold else -1 for p in probabilities])"
   ]
  },
  {
   "cell_type": "markdown",
   "metadata": {},
   "source": [
    "Run prediction with `output_type='probability'` to get the list of probability values. Then use thresholds set at 0.5 (default) and 0.9 to make predictions from these probability values."
   ]
  },
  {
   "cell_type": "code",
   "execution_count": 53,
   "metadata": {},
   "outputs": [],
   "source": [
    "probabilities = predict_probability(X_test_sentiment.to_numpy(), sentiment_model_weights)\n",
    "\n",
    "predictions_with_default_threshold = apply_threshold(probabilities, 0.5)\n",
    "\n",
    "predictions_with_high_threshold = apply_threshold(probabilities, 0.9)"
   ]
  },
  {
   "cell_type": "code",
   "execution_count": 54,
   "metadata": {},
   "outputs": [
    {
     "name": "stdout",
     "output_type": "stream",
     "text": [
      "[1 1 1 1 1 1 1 1 1 1 1 1 1 1 1 1 1 1 1 1 1 1 1 1 1 1 1 1 1 1 1 1 1 1 1 1 1\n",
      " 1 1 1 1 1 1 1 1 1 1 1 1 1 1 1 1 1 1 1 1 1 1 1 1 1 1 1 1 1 1 1 1 1 1 1 1 1\n",
      " 1 1 1 1 1 1 1 1 1 1 1 1 1 1 1 1 1 1 1 1 1 1 1 1 1 1 1 1 1 1 1 1 1 1 1 1 1\n",
      " 1 1 1 1 1 1 1 1 1 1 1 1 1 1 1 1 1 1 1 1 1 1 1 1 1 1 1 1 1 1 1 1 1 1 1 1 1\n",
      " 1 1 1 1 1 1 1 1 1 1 1 1 1 1 1 1 1 1 1 1 1 1 1 1 1 1 1 1 1 1 1 1 1 1 1 1 1\n",
      " 1 1 1 1 1 1 1 1 1 1 1 1 1 1 1 1 1 1 1 1 1 1 1 1 1 1 1 1 1 1 1 1 1 1 1 1 1\n",
      " 1 1 1 1 1 1 1 1 1 1 1 1 1 1 1 1 1 1 1 1 1 1 1 1 1 1 1 1 1 1 1 1 1 1 1 1 1\n",
      " 1 1 1 1 1 1 1 1 1 1 1 1 1 1 1 1 1 1 1 1 1 1 1 1 1 1 1 1 1 1 1 1 1 1 1 1 1\n",
      " 1 1 1 1 1 1 1 1 1 1 1 1 1 1 1 1 1 1 1 1]\n"
     ]
    }
   ],
   "source": [
    "print(predictions_with_default_threshold)"
   ]
  },
  {
   "cell_type": "code",
   "execution_count": 55,
   "metadata": {},
   "outputs": [
    {
     "name": "stdout",
     "output_type": "stream",
     "text": [
      "Number of positive predicted reviews (threshold = 0.5): 316\n"
     ]
    }
   ],
   "source": [
    "print(\"Number of positive predicted reviews (threshold = 0.5): %s\" % (predictions_with_default_threshold == 1).sum())"
   ]
  },
  {
   "cell_type": "code",
   "execution_count": 56,
   "metadata": {},
   "outputs": [
    {
     "name": "stdout",
     "output_type": "stream",
     "text": [
      "Number of positive predicted reviews (threshold = 0.9): 29\n"
     ]
    }
   ],
   "source": [
    "print(\"Number of positive predicted reviews (threshold = 0.9): %s\" % (predictions_with_high_threshold == 1).sum())"
   ]
  },
  {
   "cell_type": "markdown",
   "metadata": {},
   "source": [
    "**Discussion Question**: What happens to the number of positive predicted reviews as the threshold increased from 0.5 to 0.9?"
   ]
  },
  {
   "cell_type": "markdown",
   "metadata": {},
   "source": [
    "## Exploring the associated precision and recall as the threshold varies"
   ]
  },
  {
   "cell_type": "markdown",
   "metadata": {},
   "source": [
    "By changing the probability threshold, it is possible to influence precision and recall. We can explore this as follows:"
   ]
  },
  {
   "cell_type": "code",
   "execution_count": 57,
   "metadata": {},
   "outputs": [],
   "source": [
    "from sklearn.metrics import recall_score, precision_score"
   ]
  },
  {
   "cell_type": "code",
   "execution_count": 58,
   "metadata": {},
   "outputs": [],
   "source": [
    "# Threshold = 0.5\n",
    "precision_with_default_threshold = precision_score(\n",
    "    y_test, predictions_with_default_threshold)\n",
    "\n",
    "recall_with_default_threshold = recall_score(\n",
    "    y_test, predictions_with_default_threshold\n",
    ")\n",
    "\n",
    "# Threshold = 0.9\n",
    "precision_with_high_threshold = precision_score(\n",
    "    y_test, predictions_with_high_threshold, zero_division=1)\n",
    "\n",
    "recall_with_high_threshold = recall_score(\n",
    "    y_test, predictions_with_high_threshold\n",
    ")"
   ]
  },
  {
   "cell_type": "code",
   "execution_count": 59,
   "metadata": {},
   "outputs": [
    {
     "name": "stdout",
     "output_type": "stream",
     "text": [
      "Precision (threshold = 0.5): 0.9335443037974683\n",
      "Recall (threshold = 0.5)   : 1.0\n"
     ]
    }
   ],
   "source": [
    "print(\"Precision (threshold = 0.5): %s\" % precision_with_default_threshold)\n",
    "print(\"Recall (threshold = 0.5)   : %s\" % recall_with_default_threshold)"
   ]
  },
  {
   "cell_type": "code",
   "execution_count": 60,
   "metadata": {},
   "outputs": [
    {
     "name": "stdout",
     "output_type": "stream",
     "text": [
      "Precision (threshold = 0.9): 0.9310344827586207\n",
      "Recall (threshold = 0.9)   : 0.09152542372881356\n"
     ]
    }
   ],
   "source": [
    "print(\"Precision (threshold = 0.9): %s\" % precision_with_high_threshold)\n",
    "print(\"Recall (threshold = 0.9)   : %s\" % recall_with_high_threshold)"
   ]
  },
  {
   "cell_type": "markdown",
   "metadata": {},
   "source": [
    "**Discussion Question (variant 1)**: Does the **precision** increase with a higher threshold?\n",
    "\n",
    "**Discussion Question (variant 2)**: Does the **recall** increase with a higher threshold?"
   ]
  },
  {
   "cell_type": "markdown",
   "metadata": {},
   "source": [
    "## Precision-recall curve\n",
    "\n",
    "Now, we will explore various different values of tresholds, compute the precision and recall scores, and then plot the precision-recall curve."
   ]
  },
  {
   "cell_type": "code",
   "execution_count": 61,
   "metadata": {},
   "outputs": [],
   "source": [
    "threshold_values = np.linspace(0.5, 1, num=100)"
   ]
  },
  {
   "cell_type": "markdown",
   "metadata": {},
   "source": [
    "For each of the values of threshold, we compute the precision and recall scores."
   ]
  },
  {
   "cell_type": "code",
   "execution_count": 62,
   "metadata": {},
   "outputs": [],
   "source": [
    "precision_all = []\n",
    "recall_all = []\n",
    "\n",
    "probabilities = predict_probability(X_test_sentiment.to_numpy(), sentiment_model_weights)\n",
    "for threshold in threshold_values:\n",
    "    predictions = apply_threshold(probabilities, threshold)\n",
    "\n",
    "    precision = precision_score(y_test, predictions, zero_division=1)\n",
    "\n",
    "    recall = recall_score(y_test, predictions)\n",
    "    \n",
    "    precision_all.append(precision)\n",
    "    recall_all.append(recall)"
   ]
  },
  {
   "cell_type": "markdown",
   "metadata": {},
   "source": [
    "Now, let's plot the precision-recall curve to visualize the precision-recall tradeoff as we vary the threshold."
   ]
  },
  {
   "cell_type": "code",
   "execution_count": 63,
   "metadata": {},
   "outputs": [],
   "source": [
    "import matplotlib.pyplot as plt\n",
    "%matplotlib inline\n",
    "\n",
    "def plot_pr_curve(precision, recall, title):\n",
    "    plt.rcParams['figure.figsize'] = 7, 5\n",
    "    plt.locator_params(axis = 'x', nbins = 5)\n",
    "    plt.plot(recall, precision, 'b-', linewidth=4.0, color = '#B0017F')\n",
    "    plt.title(title)\n",
    "    plt.ylabel('Precision')\n",
    "    plt.xlabel('Recall')\n",
    "    plt.rcParams.update({'font.size': 16})"
   ]
  },
  {
   "cell_type": "code",
   "execution_count": 64,
   "metadata": {},
   "outputs": [
    {
     "name": "stderr",
     "output_type": "stream",
     "text": [
      "/var/folders/6c/sgccp3hn0n5f2v4fcrxvyjn80000gn/T/ipykernel_73165/2027353810.py:7: UserWarning: color is redundantly defined by the 'color' keyword argument and the fmt string \"b-\" (-> color='b'). The keyword argument will take precedence.\n",
      "  plt.plot(recall, precision, 'b-', linewidth=4.0, color = '#B0017F')\n"
     ]
    },
    {
     "data": {
      "image/png": "[encoded data removed]",
      "text/plain": [
       "<Figure size 700x500 with 1 Axes>"
      ]
     },
     "metadata": {},
     "output_type": "display_data"
    }
   ],
   "source": [
    "plot_pr_curve(precision_all, recall_all, 'Precision recall curve (all)')"
   ]
  },
  {
   "cell_type": "markdown",
   "metadata": {},
   "source": [
    "**Discussion Question**: Among all the threshold values tried, what is the **smallest** threshold value that achieves a precision of 96.5% or better? Round your answer to 3 decimal places."
   ]
  },
  {
   "cell_type": "code",
   "execution_count": 65,
   "metadata": {},
   "outputs": [
    {
     "name": "stdout",
     "output_type": "stream",
     "text": [
      "0.9494949494949496\n"
     ]
    }
   ],
   "source": [
    "for idx, precision in enumerate(precision_all):\n",
    "    if precision >= 0.965:\n",
    "        print(threshold_values[idx])\n",
    "        break"
   ]
  },
  {
   "cell_type": "markdown",
   "metadata": {},
   "source": [
    "**Discussion Question**: Using `threshold` = 0.98, how many **false negatives** do we get on the **test_data**? (**Hint**: You may use the Sklearn precision and recall functions.)"
   ]
  },
  {
   "cell_type": "code",
   "execution_count": 66,
   "metadata": {},
   "outputs": [
    {
     "data": {
      "text/plain": [
       "291"
      ]
     },
     "execution_count": 66,
     "metadata": {},
     "output_type": "execute_result"
    }
   ],
   "source": [
    "predictions = apply_threshold(probabilities, 0.949)\n",
    "cm = confusion_matrix(y_test, predictions)\n",
    "cm[1][0]"
   ]
  },
  {
   "cell_type": "markdown",
   "metadata": {},
   "source": [
    "This is the number of false negatives (i.e the number of reviews to look at when not needed) that we have to deal with using this classifier."
   ]
  },
  {
   "cell_type": "code",
   "execution_count": null,
   "metadata": {},
   "outputs": [],
   "source": []
  },
  {
   "cell_type": "code",
   "execution_count": null,
   "metadata": {},
   "outputs": [],
   "source": []
  },
  {
   "cell_type": "code",
   "execution_count": null,
   "metadata": {},
   "outputs": [],
   "source": []
  }
 ],
 "metadata": {
  "kernelspec": {
   "display_name": "Python 3 (ipykernel)",
   "language": "python",
   "name": "python3"
  },
  "language_info": {
   "codemirror_mode": {
    "name": "ipython",
    "version": 3
   },
   "file_extension": ".py",
   "mimetype": "text/x-python",
   "name": "python",
   "nbconvert_exporter": "python",
   "pygments_lexer": "ipython3",
   "version": "3.8.18"
  },
  "vscode": {
   "interpreter": {
    "hash": "85463d1bb2888979eba71184c8d462df281b59dd3aecce6d9ffe8745b11b3329"
   }
  }
 },
 "nbformat": 4,
 "nbformat_minor": 4
}
